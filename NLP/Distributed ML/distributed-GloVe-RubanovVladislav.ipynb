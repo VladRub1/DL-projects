{
  "cells": [
    {
      "cell_type": "markdown",
      "metadata": {
        "id": "H91Iz3PiAFEK"
      },
      "source": [
        "### Practice 1: Parallel GloVe\n",
        "\n",
        "In this assignment we'll build parallel GloVe training from scratch. Well, almost from scratch:\n",
        "* we'll use python's builtin [`multiprocessing`](https://docs.python.org/3/library/multiprocessing.html) library\n",
        "* and learn to access numpy arrays from multiple processes!\n",
        "\n",
        "![img](https://i.imgur.com/YHluIBo.png)"
      ]
    },
    {
      "cell_type": "code",
      "execution_count": 49,
      "metadata": {
        "colab": {
          "base_uri": "https://localhost:8080/"
        },
        "id": "F9iWJGzIAFEO",
        "outputId": "599126be-65d9-4d73-caab-c9fd327c79aa"
      },
      "outputs": [
        {
          "name": "stdout",
          "output_type": "stream",
          "text": [
            "env: MKL_NUM_THREADS=1\n",
            "env: NUMEXPR_NUM_THREADS=1\n",
            "env: OMP_NUM_THREADS=1\n",
            "Looking in indexes: https://pypi.org/simple, https://us-python.pkg.dev/colab-wheels/public/simple/\n",
            "Requirement already satisfied: nltk in /usr/local/lib/python3.8/dist-packages (3.8.1)\n",
            "Requirement already satisfied: datasets in /usr/local/lib/python3.8/dist-packages (2.9.0)\n",
            "Requirement already satisfied: tqdm in /usr/local/lib/python3.8/dist-packages (4.64.1)\n",
            "Requirement already satisfied: click in /usr/local/lib/python3.8/dist-packages (from nltk) (7.1.2)\n",
            "Requirement already satisfied: joblib in /usr/local/lib/python3.8/dist-packages (from nltk) (1.2.0)\n",
            "Requirement already satisfied: regex>=2021.8.3 in /usr/local/lib/python3.8/dist-packages (from nltk) (2022.6.2)\n",
            "Requirement already satisfied: huggingface-hub<1.0.0,>=0.2.0 in /usr/local/lib/python3.8/dist-packages (from datasets) (0.12.0)\n",
            "Requirement already satisfied: dill<0.3.7 in /usr/local/lib/python3.8/dist-packages (from datasets) (0.3.6)\n",
            "Requirement already satisfied: fsspec[http]>=2021.11.1 in /usr/local/lib/python3.8/dist-packages (from datasets) (2023.1.0)\n",
            "Requirement already satisfied: multiprocess in /usr/local/lib/python3.8/dist-packages (from datasets) (0.70.14)\n",
            "Requirement already satisfied: requests>=2.19.0 in /usr/local/lib/python3.8/dist-packages (from datasets) (2.25.1)\n",
            "Requirement already satisfied: pandas in /usr/local/lib/python3.8/dist-packages (from datasets) (1.3.5)\n",
            "Requirement already satisfied: responses<0.19 in /usr/local/lib/python3.8/dist-packages (from datasets) (0.18.0)\n",
            "Requirement already satisfied: packaging in /usr/local/lib/python3.8/dist-packages (from datasets) (23.0)\n",
            "Requirement already satisfied: pyyaml>=5.1 in /usr/local/lib/python3.8/dist-packages (from datasets) (6.0)\n",
            "Requirement already satisfied: aiohttp in /usr/local/lib/python3.8/dist-packages (from datasets) (3.8.3)\n",
            "Requirement already satisfied: numpy>=1.17 in /usr/local/lib/python3.8/dist-packages (from datasets) (1.21.6)\n",
            "Requirement already satisfied: xxhash in /usr/local/lib/python3.8/dist-packages (from datasets) (3.2.0)\n",
            "Requirement already satisfied: pyarrow>=6.0.0 in /usr/local/lib/python3.8/dist-packages (from datasets) (9.0.0)\n",
            "Requirement already satisfied: attrs>=17.3.0 in /usr/local/lib/python3.8/dist-packages (from aiohttp->datasets) (22.2.0)\n",
            "Requirement already satisfied: aiosignal>=1.1.2 in /usr/local/lib/python3.8/dist-packages (from aiohttp->datasets) (1.3.1)\n",
            "Requirement already satisfied: multidict<7.0,>=4.5 in /usr/local/lib/python3.8/dist-packages (from aiohttp->datasets) (6.0.4)\n",
            "Requirement already satisfied: charset-normalizer<3.0,>=2.0 in /usr/local/lib/python3.8/dist-packages (from aiohttp->datasets) (2.1.1)\n",
            "Requirement already satisfied: frozenlist>=1.1.1 in /usr/local/lib/python3.8/dist-packages (from aiohttp->datasets) (1.3.3)\n",
            "Requirement already satisfied: async-timeout<5.0,>=4.0.0a3 in /usr/local/lib/python3.8/dist-packages (from aiohttp->datasets) (4.0.2)\n",
            "Requirement already satisfied: yarl<2.0,>=1.0 in /usr/local/lib/python3.8/dist-packages (from aiohttp->datasets) (1.8.2)\n",
            "Requirement already satisfied: filelock in /usr/local/lib/python3.8/dist-packages (from huggingface-hub<1.0.0,>=0.2.0->datasets) (3.9.0)\n",
            "Requirement already satisfied: typing-extensions>=3.7.4.3 in /usr/local/lib/python3.8/dist-packages (from huggingface-hub<1.0.0,>=0.2.0->datasets) (4.4.0)\n",
            "Requirement already satisfied: certifi>=2017.4.17 in /usr/local/lib/python3.8/dist-packages (from requests>=2.19.0->datasets) (2022.12.7)\n",
            "Requirement already satisfied: chardet<5,>=3.0.2 in /usr/local/lib/python3.8/dist-packages (from requests>=2.19.0->datasets) (4.0.0)\n",
            "Requirement already satisfied: idna<3,>=2.5 in /usr/local/lib/python3.8/dist-packages (from requests>=2.19.0->datasets) (2.10)\n",
            "Requirement already satisfied: urllib3<1.27,>=1.21.1 in /usr/local/lib/python3.8/dist-packages (from requests>=2.19.0->datasets) (1.26.14)\n",
            "Requirement already satisfied: pytz>=2017.3 in /usr/local/lib/python3.8/dist-packages (from pandas->datasets) (2022.7.1)\n",
            "Requirement already satisfied: python-dateutil>=2.7.3 in /usr/local/lib/python3.8/dist-packages (from pandas->datasets) (2.8.2)\n",
            "Requirement already satisfied: six>=1.5 in /usr/local/lib/python3.8/dist-packages (from python-dateutil>=2.7.3->pandas->datasets) (1.15.0)\n",
            "--2023-02-17 10:37:55--  https://raw.githubusercontent.com/mryab/efficient-dl-systems/main/week04_distributed/utils.py\n",
            "Resolving raw.githubusercontent.com (raw.githubusercontent.com)... 185.199.108.133, 185.199.109.133, 185.199.110.133, ...\n",
            "Connecting to raw.githubusercontent.com (raw.githubusercontent.com)|185.199.108.133|:443... connected.\n",
            "HTTP request sent, awaiting response... 200 OK\n",
            "Length: 1071 (1.0K) [text/plain]\n",
            "Saving to: ‘utils.py’\n",
            "\n",
            "utils.py            100%[===================>]   1.05K  --.-KB/s    in 0s      \n",
            "\n",
            "2023-02-17 10:37:55 (91.5 MB/s) - ‘utils.py’ saved [1071/1071]\n",
            "\n"
          ]
        }
      ],
      "source": [
        "%env MKL_NUM_THREADS=1\n",
        "%env NUMEXPR_NUM_THREADS=1\n",
        "%env OMP_NUM_THREADS=1\n",
        "# set numpy to single-threaded mode for benchmarking\n",
        "\n",
        "!pip install --upgrade nltk datasets tqdm\n",
        "!wget https://raw.githubusercontent.com/mryab/efficient-dl-systems/main/week04_distributed/utils.py -O utils.py\n",
        "\n",
        "import time, random\n",
        "import multiprocessing as mp\n",
        "import numpy as np\n",
        "from tqdm import tqdm, trange\n",
        "from IPython.display import clear_output\n",
        "import matplotlib.pyplot as plt\n",
        "%matplotlib inline\n"
      ]
    },
    {
      "cell_type": "markdown",
      "metadata": {
        "id": "qVojuqhGAFES"
      },
      "source": [
        "### Multiprocessing basics"
      ]
    },
    {
      "cell_type": "code",
      "execution_count": 2,
      "metadata": {
        "id": "cr6HV2PjAFEU"
      },
      "outputs": [],
      "source": [
        "def foo(i):\n",
        "    \"\"\" Imagine particularly computation-heavy function... \"\"\"\n",
        "    print(end=f\"Began foo({i})...\\n\")\n",
        "    result = np.sin(i)\n",
        "    time.sleep(abs(result))\n",
        "    print(end=f\"Finished foo({i}) = {result:.3f}.\\n\")\n",
        "    return result"
      ]
    },
    {
      "cell_type": "code",
      "execution_count": 3,
      "metadata": {
        "colab": {
          "base_uri": "https://localhost:8080/"
        },
        "id": "hOOPAmDdAFEW",
        "outputId": "8da5f854-f928-456b-e9cf-1de0b39567ac"
      },
      "outputs": [
        {
          "name": "stdout",
          "output_type": "stream",
          "text": [
            "Began foo(0)...\n",
            "Finished foo(0) = 0.000.\n",
            "Began foo(1)...\n",
            "Finished foo(1) = 0.841.\n",
            "Began foo(2)...\n",
            "Finished foo(2) = 0.909.\n",
            "Began foo(3)...\n",
            "Finished foo(3) = 0.141.\n",
            "Began foo(4)...\n",
            "Finished foo(4) = -0.757.\n",
            "Began foo(5)...\n",
            "Finished foo(5) = -0.959.\n",
            "Began foo(6)...\n",
            "Finished foo(6) = -0.279.\n",
            "Began foo(7)...\n",
            "Finished foo(7) = 0.657.\n",
            "Began foo(8)...\n",
            "Finished foo(8) = 0.989.\n",
            "Began foo(9)...\n",
            "Finished foo(9) = 0.412.\n",
            "CPU times: user 44.2 ms, sys: 7.59 ms, total: 51.8 ms\n",
            "Wall time: 5.95 s\n"
          ]
        }
      ],
      "source": [
        "%%time\n",
        "results_naive = [foo(i) for i in range(10)]"
      ]
    },
    {
      "cell_type": "markdown",
      "metadata": {
        "id": "EzBc-wA2AFEX"
      },
      "source": [
        "Same, but with multiple processes"
      ]
    },
    {
      "cell_type": "code",
      "execution_count": 4,
      "metadata": {
        "colab": {
          "base_uri": "https://localhost:8080/"
        },
        "id": "TQPXLqdlAFEY",
        "outputId": "f13d6ef2-e059-4871-dfc9-4b483d9f9716"
      },
      "outputs": [
        {
          "name": "stdout",
          "output_type": "stream",
          "text": [
            "Created 10 processes!\n",
            "Began foo(1)...\n",
            "Began foo(0)...\n",
            "Began foo(2)...\n",
            "Finished foo(0) = 0.000.\n",
            "Began foo(3)...\n",
            "Began foo(4)...\n",
            "Began foo(5)...\n",
            "Began foo(6)...\n",
            "Began foo(7)...\n",
            "Began foo(8)...\n",
            "Began foo(9)...\n",
            "Finished foo(3) = 0.141.\n",
            "Finished foo(6) = -0.279.\n",
            "Finished foo(9) = 0.412.\n",
            "Finished foo(7) = 0.657.\n",
            "Finished foo(4) = -0.757.\n",
            "Finished foo(1) = 0.841.\n",
            "Finished foo(2) = 0.909.\n",
            "Finished foo(5) = -0.959.\n",
            "Finished foo(8) = 0.989.\n",
            "CPU times: user 58.5 ms, sys: 70.7 ms, total: 129 ms\n",
            "Wall time: 1.12 s\n"
          ]
        }
      ],
      "source": [
        "%%time\n",
        "processes = []\n",
        "for i in range(10):\n",
        "    proc = mp.Process(target=foo, args=[i])\n",
        "    processes.append(proc)\n",
        "\n",
        "print(f\"Created {len(processes)} processes!\")\n",
        "\n",
        "# start in parallel\n",
        "for proc in processes:\n",
        "    proc.start()\n",
        "    \n",
        "# wait for everyone finish\n",
        "for proc in processes:\n",
        "    proc.join()  # wait until proc terminates"
      ]
    },
    {
      "cell_type": "markdown",
      "metadata": {
        "id": "z-e91ez4AFEZ"
      },
      "source": [
        "```\n",
        "\n",
        "```\n",
        "\n",
        "```\n",
        "\n",
        "```\n",
        "\n",
        "```\n",
        "\n",
        "```\n",
        "\n",
        "```\n",
        "\n",
        "```\n",
        "\n",
        "```\n",
        "\n",
        "```\n",
        "\n",
        "```\n",
        "\n",
        "```\n",
        "\n",
        "```\n",
        "\n",
        "```\n",
        "\n",
        "```\n",
        "\n",
        "```\n",
        "\n",
        "```\n",
        "\n",
        "```\n",
        "\n",
        "```\n",
        "\n",
        "```\n",
        "\n",
        "Great! But how do we collect the values?"
      ]
    },
    {
      "cell_type": "markdown",
      "metadata": {
        "id": "oJCsKVJsAFEb"
      },
      "source": [
        "__Solution 1:__ with pipes!\n",
        "\n",
        "Two \"sides\", __one__ process from each side\n",
        "* `pipe_side.send(data)` - throw data into the pipe (do not wait for it to be read)\n",
        "* `data = pipe_side.recv()` - read data. If there is none, wait for someone to send data\n",
        "\n",
        "__Rules:__\n",
        "* each side should be controlled by __one__ process\n",
        "* data transferred through pipes must be serializable\n",
        "* if `duplex=True`, processes can communicate both ways\n",
        "* if `duplex=False`, \"left\" receives and \"right\" side sends"
      ]
    },
    {
      "cell_type": "code",
      "execution_count": 5,
      "metadata": {
        "colab": {
          "base_uri": "https://localhost:8080/"
        },
        "id": "lRI8OvzwAFEd",
        "outputId": "a83b49f6-9060-4091-c2bb-77d2610b127d"
      },
      "outputs": [
        {
          "name": "stdout",
          "output_type": "stream",
          "text": [
            "side_B.recv() ->  123\n",
            "side_B.recv() ->  {'ololo': array([0.54470656, 0.74628284, 1.08761184])}\n"
          ]
        }
      ],
      "source": [
        "side_A, side_B = mp.Pipe()\n",
        "\n",
        "side_A.send(123)\n",
        "side_A.send({'ololo': np.random.randn(3)})\n",
        "\n",
        "print(\"side_B.recv() -> \", side_B.recv())\n",
        "print(\"side_B.recv() -> \", side_B.recv())\n",
        "\n",
        "# note: calling recv a third will hang the process (waiting for someone to send data)"
      ]
    },
    {
      "cell_type": "code",
      "execution_count": 6,
      "metadata": {
        "id": "KCKp1tq1AFEe"
      },
      "outputs": [],
      "source": [
        "def compute_and_send(i, output_pipe):\n",
        "    print(end=f\"Began compute_and_send({i})...\\n\")\n",
        "    result = np.sin(i)\n",
        "    time.sleep(abs(result))\n",
        "    print(end=f\"Finished compute_and_send({i}) = {result:.3f}.\\n\")\n",
        "    \n",
        "    output_pipe.send(result)"
      ]
    },
    {
      "cell_type": "code",
      "execution_count": 7,
      "metadata": {
        "colab": {
          "base_uri": "https://localhost:8080/"
        },
        "id": "3j1mKkn5AFEe",
        "outputId": "d88d02fb-28bd-4d6f-b02b-2c0246e3231a"
      },
      "outputs": [
        {
          "name": "stdout",
          "output_type": "stream",
          "text": [
            "Began compute_and_send(0)...\n",
            "Finished compute_and_send(0) = 0.000.\n",
            "Began compute_and_send(1)...\n",
            "Began compute_and_send(2)...\n",
            "Began compute_and_send(3)...\n",
            "Began compute_and_send(4)...\n",
            "Began compute_and_send(5)...\n",
            "Began compute_and_send(6)...\n",
            "Began compute_and_send(7)...\n",
            "Began compute_and_send(8)...\n",
            "Began compute_and_send(9)...\n",
            "MAIN PROCESS: awaiting results...\n",
            "MAIN_PROCESS: received 0.0\n",
            "Finished compute_and_send(3) = 0.141.\n",
            "Finished compute_and_send(6) = -0.279.\n",
            "Finished compute_and_send(9) = 0.412.\n",
            "Finished compute_and_send(7) = 0.657.\n",
            "Finished compute_and_send(4) = -0.757.\n",
            "Finished compute_and_send(1) = 0.841.\n",
            "Finished compute_and_send(2) = 0.909.\n",
            "Finished compute_and_send(5) = -0.959.\n",
            "MAIN_PROCESS: received 0.8414709848078965\n",
            "MAIN_PROCESS: received 0.9092974268256817\n",
            "MAIN_PROCESS: received 0.1411200080598672\n",
            "MAIN_PROCESS: received -0.7568024953079282\n",
            "MAIN_PROCESS: received -0.9589242746631385\n",
            "MAIN_PROCESS: received -0.27941549819892586\n",
            "MAIN_PROCESS: received 0.6569865987187891\n",
            "Finished compute_and_send(8) = 0.989.\n",
            "MAIN_PROCESS: received 0.9893582466233818\n",
            "MAIN_PROCESS: received 0.4121184852417566\n",
            "MAIN PROCESS: done!\n",
            "CPU times: user 59.4 ms, sys: 75.6 ms, total: 135 ms\n",
            "Wall time: 1.11 s\n"
          ]
        }
      ],
      "source": [
        "%%time\n",
        "result_pipes = []\n",
        "\n",
        "for i in range(10):\n",
        "    \n",
        "    side_A, side_B = mp.Pipe(duplex=False)\n",
        "    # note: duplex=False means that side_B can only send\n",
        "    # and side_A can only recv. Otherwise its bidirectional\n",
        "    result_pipes.append(side_A)\n",
        "    proc = mp.Process(target=compute_and_send, args=[i, side_B])\n",
        "    proc.start()\n",
        "\n",
        "print(\"MAIN PROCESS: awaiting results...\")\n",
        "for pipe in result_pipes:\n",
        "    print(f\"MAIN_PROCESS: received {pipe.recv()}\")\n",
        "print(\"MAIN PROCESS: done!\")"
      ]
    },
    {
      "cell_type": "markdown",
      "metadata": {
        "id": "woOzj-h9AFEf"
      },
      "source": [
        "__Solution 2:__ with multiprocessing templates\n",
        "\n",
        "Multiprocessing contains some template data structures that help you communicate between processes.\n",
        "\n",
        "One such structure is `mp.Queue` a Queue that can be accessed by multiple processes in parallel.\n",
        "* `queue.put` adds the value to the queue, accessible by all other processes\n",
        "* `queue.get` returns the earliest added value and removes it from queue"
      ]
    },
    {
      "cell_type": "code",
      "execution_count": 8,
      "metadata": {
        "colab": {
          "base_uri": "https://localhost:8080/"
        },
        "id": "P8mPT8uvAFEg",
        "outputId": "b944b281-b289-417c-8c1f-943fea24a456"
      },
      "outputs": [
        {
          "name": "stdout",
          "output_type": "stream",
          "text": [
            "A: awaiting queue...\n"
          ]
        }
      ],
      "source": [
        "queue = mp.Queue()\n",
        "\n",
        "def func_A(queue):\n",
        "    print(\"A: awaiting queue...\")\n",
        "    print(\"A: retreived from queue:\", queue.get())\n",
        "    print(\"A: awaiting queue...\")\n",
        "    print(\"A: retreived from queue:\", queue.get())\n",
        "    print(\"A: done!\")\n",
        "\n",
        "def func_B(i, queue):\n",
        "    value = np.random.rand()\n",
        "    time.sleep(value)\n",
        "    print(f\"proc_B{i}: putting more stuff into queue!\")\n",
        "    queue.put(value)\n",
        "    \n",
        "\n",
        "proc_A = mp.Process(target=func_A, args=[queue])\n",
        "proc_A.start();\n",
        "\n",
        "proc_B1 = mp.Process(target=func_B, args=[1, queue])\n",
        "proc_B2 = mp.Process(target=func_B, args=[2, queue])\n",
        "proc_B1.start(), proc_B2.start();"
      ]
    },
    {
      "cell_type": "markdown",
      "metadata": {
        "id": "d-rzgIRPAFEh"
      },
      "source": [
        "__Important note:__ you can see that the two values above are identical.\n",
        "\n",
        "This is because proc_B1 and proc_B2 were forked (cloned) with __the same random state!__\n",
        "\n",
        "To mitigate this issue, run `np.random.seed()` in each process (same for torch, tensorflow).\n",
        "\n",
        "<details>\n",
        "    <summary>In fact, please go and to that <b>right now!</b></summary>\n",
        "    <img src='https://media.tenor.com/images/32c950f36a61ec7e5060f5eee9140396/tenor.gif' height=200px>\n",
        "</details>\n",
        "\n",
        "```\n",
        "\n",
        "```\n",
        "\n",
        "__Less important note:__ `mp.Queue vs mp.Pipe`\n",
        "- pipes are much faster for 1v1 communication\n",
        "- queues support arbitrary number of processes\n",
        "- queues are implemented with pipes"
      ]
    },
    {
      "cell_type": "markdown",
      "metadata": {
        "id": "XHck3-qUAFEi"
      },
      "source": [
        "### GloVe preprocessing\n",
        "\n",
        "Before we can train GloVe, we must first construct the co-occurence"
      ]
    },
    {
      "cell_type": "code",
      "execution_count": 9,
      "metadata": {
        "colab": {
          "base_uri": "https://localhost:8080/",
          "height": 266,
          "referenced_widgets": [
            "22be28fa6a554d999019282d96834a54",
            "feaf0ab28d44404cb3a8da9f5d19c0aa",
            "9f832b78c84849e9add8a41f85c4fb39",
            "017662e7d2484883b0f62daa7a2e56ce",
            "d5d02981a4f94311bf2cce51f24c76f8",
            "17b78f6e29e84346ae673b497223d932",
            "13b1afbff4dc4a3ea543a032dec57f7d",
            "360a044384514e93b15b985e16a3af93",
            "40d1a2f835d24af1b83c47ce70d51cbb",
            "add1714da32d445a9b9160a13ed6e05e",
            "892fcfdf4dcb47789d1746bd942053bb",
            "4ba96f56a5d7459a9822be1e6feefda9",
            "151a10d9cdba45f0ba90f4b775026a31",
            "cc5c12dbe6094c51bd2a4b6b769bcb26",
            "124a6bec1c964d9dbb7c385cdb20620e",
            "e96b3a50cd7c46b39ce8bffe58630ab8",
            "c9c0754651224e9096ad9e14348b472a",
            "e44f289aeace4e1fabf65d8a3fe6f117",
            "8a15982e95dd44bba00bc2b5a442812d",
            "48d0cf06a2514117901fd36a31f26fd2",
            "e44a0bfd983e433e8f8109bf19679ac4",
            "d5ce6624c4054583af6c82b61429f13f",
            "96a3e9efd4734bc7b5d2c1d2e2baf8c6",
            "f6c2defcd62b461ca338b61ca082ec9a",
            "f0b69beb35b842a29489111a02cb0eed",
            "107e2d648110447faed852fb819620f5",
            "64bd2b13fd3a4e82bdc86bca74ce4e40",
            "f475d619c4804437bdd8ea7b76630be7",
            "2814dee4af5a4d6480c4fabf1ca4a061",
            "d41c6d41a2474933bbf0d128f20951df",
            "7c08176a43804354b6d772f00ccf1456",
            "7e53faa52cad4ad4a8e3a326b311521d",
            "0bb00df241ac453985d26cf9b4099c1b",
            "dadf5b57fa64451db906ff7ebed97e86",
            "104ec26e0a734cf48ea0c2213963d5e1",
            "bcaee4b0e3514182987f718373bd61a6",
            "d60e9e6c4d6a4feaba4051aed51c2e78",
            "df8dedda7d084253b7ef789c37d742c3",
            "7c751fe50c74475a9cc9a3b1f41bc36d",
            "b097b05e30a7453aae264053f6a9f8b0",
            "a2b1d48686bf4591a214bef38cea758d",
            "d056ecd5c1f14300b1e3b30689f87300",
            "49e21d111a054a80a7cfce03ac0dc5fa",
            "06f848cc4cde469987817447e7981dd2",
            "2dfba98643ff4634ad1377128e49cf6a",
            "e933f23155f1447db29d300c74f0f6c2",
            "351669fdef214276b5f5670780154855",
            "4340c05dfa444276b34817b6dc67028c",
            "3ee6793171414f2ca59b5799d21dce35",
            "b1e50d61230c4479a09087e3ecfc226b",
            "80a6eadb31ff418b95a5ac518775a250",
            "6af4454a166343458450f417cf8e6f7f",
            "5b15d1cea3794cc7b1a6fcb73731dec2",
            "f83088b73358419aac82c4d1f22e9a96",
            "c9e2bf8130c54c6f8c713942add45a03",
            "3da9e2b9a4ce4ea8ae4455bc872cc4a1",
            "0b8593f161704322be109f19f2e21cbf",
            "f3a8e1d2b02643069a1e0f6e4ab6d2df",
            "05b3108f02f04d899d809c7f1a64bbe7",
            "2db980972b96498a97b540d131630345",
            "f2c54d9c08bd41e194875db16013d951",
            "f0663d94714944f4919a1091ead49f08",
            "1ac8cea59cd84764814dada44f07e4c2",
            "34ffd83dda4843e08a92803ad0cf9f29",
            "795561dabb20416ab8c3266c197a4113",
            "08230b0dcf4d469db5ac3750a61e6a04",
            "3d79b26f13454efbac119a486dfc4607",
            "4ccb410805684e36abbb379b1ef86f70",
            "d982b74b8c6e49b58d1aa6e842359502",
            "58e164e7068c4321af3dd4d54d0e71d7",
            "9309f2b39ba5470fb33a8a283d715893",
            "9a316b9ea6a8454b81863fa046bced24",
            "8fb5d5c8f57d4fc396ed1e5c58afd90c",
            "67fb8cac8f864322b804b8a69647de1e",
            "91aa754217ef4928a92cb1a874ae1a58",
            "e6f8682f66954517bff929f2989d028f",
            "17f0d08df9ec4a6692f44ee5b0a280c6",
            "858acdac33404c9ca9a3f9cf5688ea7c",
            "5021f1158de4478b948a6e504876d28a",
            "99483f53f4914874bac73111b19f2d6c",
            "2fe49a9bcba34436b2920339aa25c661",
            "8ef334ed46a14a9c8423beaf8c82eaca",
            "0f8e99591aff453dad141de6fd53a792",
            "86d62a9041164f5786acf045f9d85738",
            "ae0342a84747481790dfce2a431fd66e",
            "a45baec65b9f4913a78e5d2d544f874b",
            "c317501d809d4ce8bd37ab692fca04f4",
            "857ee60fa3a440a9ad00bf44ff45c290"
          ]
        },
        "id": "qNC7L4avAFEj",
        "outputId": "1414df5f-cab6-413f-a82e-577bcb6b23dc"
      },
      "outputs": [
        {
          "data": {
            "application/vnd.jupyter.widget-view+json": {
              "model_id": "22be28fa6a554d999019282d96834a54",
              "version_major": 2,
              "version_minor": 0
            },
            "text/plain": [
              "Downloading builder script:   0%|          | 0.00/8.48k [00:00<?, ?B/s]"
            ]
          },
          "metadata": {},
          "output_type": "display_data"
        },
        {
          "data": {
            "application/vnd.jupyter.widget-view+json": {
              "model_id": "4ba96f56a5d7459a9822be1e6feefda9",
              "version_major": 2,
              "version_minor": 0
            },
            "text/plain": [
              "Downloading metadata:   0%|          | 0.00/6.84k [00:00<?, ?B/s]"
            ]
          },
          "metadata": {},
          "output_type": "display_data"
        },
        {
          "data": {
            "application/vnd.jupyter.widget-view+json": {
              "model_id": "96a3e9efd4734bc7b5d2c1d2e2baf8c6",
              "version_major": 2,
              "version_minor": 0
            },
            "text/plain": [
              "Downloading readme:   0%|          | 0.00/9.25k [00:00<?, ?B/s]"
            ]
          },
          "metadata": {},
          "output_type": "display_data"
        },
        {
          "name": "stdout",
          "output_type": "stream",
          "text": [
            "Downloading and preparing dataset wikitext/wikitext-103-raw-v1 to /root/.cache/huggingface/datasets/wikitext/wikitext-103-raw-v1/1.0.0/a241db52902eaf2c6aa732210bead40c090019a499ceb13bcbfa3f8ab646a126...\n"
          ]
        },
        {
          "data": {
            "application/vnd.jupyter.widget-view+json": {
              "model_id": "dadf5b57fa64451db906ff7ebed97e86",
              "version_major": 2,
              "version_minor": 0
            },
            "text/plain": [
              "Downloading data:   0%|          | 0.00/192M [00:00<?, ?B/s]"
            ]
          },
          "metadata": {},
          "output_type": "display_data"
        },
        {
          "data": {
            "application/vnd.jupyter.widget-view+json": {
              "model_id": "2dfba98643ff4634ad1377128e49cf6a",
              "version_major": 2,
              "version_minor": 0
            },
            "text/plain": [
              "Generating test split:   0%|          | 0/4358 [00:00<?, ? examples/s]"
            ]
          },
          "metadata": {},
          "output_type": "display_data"
        },
        {
          "data": {
            "application/vnd.jupyter.widget-view+json": {
              "model_id": "3da9e2b9a4ce4ea8ae4455bc872cc4a1",
              "version_major": 2,
              "version_minor": 0
            },
            "text/plain": [
              "Generating train split:   0%|          | 0/1801350 [00:00<?, ? examples/s]"
            ]
          },
          "metadata": {},
          "output_type": "display_data"
        },
        {
          "data": {
            "application/vnd.jupyter.widget-view+json": {
              "model_id": "3d79b26f13454efbac119a486dfc4607",
              "version_major": 2,
              "version_minor": 0
            },
            "text/plain": [
              "Generating validation split:   0%|          | 0/3760 [00:00<?, ? examples/s]"
            ]
          },
          "metadata": {},
          "output_type": "display_data"
        },
        {
          "name": "stdout",
          "output_type": "stream",
          "text": [
            "Dataset wikitext downloaded and prepared to /root/.cache/huggingface/datasets/wikitext/wikitext-103-raw-v1/1.0.0/a241db52902eaf2c6aa732210bead40c090019a499ceb13bcbfa3f8ab646a126. Subsequent calls will reuse this data.\n"
          ]
        },
        {
          "data": {
            "application/vnd.jupyter.widget-view+json": {
              "model_id": "858acdac33404c9ca9a3f9cf5688ea7c",
              "version_major": 2,
              "version_minor": 0
            },
            "text/plain": [
              "  0%|          | 0/3 [00:00<?, ?it/s]"
            ]
          },
          "metadata": {},
          "output_type": "display_data"
        },
        {
          "name": "stdout",
          "output_type": "stream",
          "text": [
            "Example:  It met with positive sales in Japan , and was praised by both Japanese and western critics . After release , it received downloadable content , along with an expanded edition in November of that year . It was also adapted into manga and an original video animation series . Due to low sales of Valkyria Chronicles II , Valkyria Chronicles III was not localized , but a fan translation compatible with the game 's expanded edition was released in 2014 . Media.Vision would return to the franchise with the development of Valkyria : Azure Revolution for the PlayStation 4 . \n",
            "\n"
          ]
        }
      ],
      "source": [
        "import datasets\n",
        "data = datasets.load_dataset('wikitext', 'wikitext-103-raw-v1')\n",
        "# for fast debugging, you can temporarily use smaller data: 'wikitext-2-raw-v1'\n",
        "\n",
        "print(\"Example:\", data['train']['text'][5])"
      ]
    },
    {
      "cell_type": "markdown",
      "metadata": {
        "id": "ctIVLlsaAFEk"
      },
      "source": [
        "__First,__ let's build a vocabulary:"
      ]
    },
    {
      "cell_type": "code",
      "execution_count": 10,
      "metadata": {
        "colab": {
          "base_uri": "https://localhost:8080/",
          "height": 190
        },
        "id": "-3LTURX-AFEl",
        "outputId": "40f0273e-7577-49e5-9446-12b8f47d4450"
      },
      "outputs": [
        {
          "data": {
            "text/plain": [
              "Counter({'the': 459,\n",
              "         ',': 349,\n",
              "         '.': 225,\n",
              "         'of': 193,\n",
              "         'to': 150,\n",
              "         'and': 147,\n",
              "         'in': 104,\n",
              "         '@': 100,\n",
              "         'a': 93,\n",
              "         'was': 83})"
            ]
          },
          "execution_count": 10,
          "metadata": {},
          "output_type": "execute_result"
        }
      ],
      "source": [
        "from collections import Counter\n",
        "from nltk.tokenize import NLTKWordTokenizer\n",
        "\n",
        "tokenizer = NLTKWordTokenizer()\n",
        "def count_tokens(lines, top_k=None):\n",
        "    \n",
        "    \"\"\" Tokenize lines and return top_k most frequent tokens and their counts \"\"\"\n",
        "    sent_tokens = tokenizer.tokenize_sents(map(str.lower, lines))\n",
        "    token_counts = Counter([token for sent in sent_tokens for token in sent])\n",
        "    return Counter(dict(token_counts.most_common(top_k)))\n",
        "\n",
        "count_tokens(data['train']['text'][:100], top_k=10)"
      ]
    },
    {
      "cell_type": "code",
      "execution_count": 11,
      "metadata": {
        "colab": {
          "base_uri": "https://localhost:8080/"
        },
        "id": "YCyX3nruAFEm",
        "outputId": "1c14463c-d1a7-4a1a-a88e-45b3244fe818"
      },
      "outputs": [
        {
          "name": "stderr",
          "output_type": "stream",
          "text": [
            "100%|██████████| 10/10 [00:27<00:00,  2.74s/it]\n"
          ]
        }
      ],
      "source": [
        "# sequential algorithm\n",
        "texts = data['train']['text'][:100_000]\n",
        "vocabulary_size = 32_000\n",
        "batch_size = 10_000\n",
        "\n",
        "token_counts = Counter()\n",
        "\n",
        "for batch_start in trange(0, len(texts), batch_size):\n",
        "    batch_texts = texts[batch_start: batch_start + batch_size]\n",
        "    batch_counts = count_tokens(batch_texts, top_k=vocabulary_size)\n",
        "    token_counts += Counter(batch_counts)\n",
        "        \n",
        "token_counts = Counter(dict(token_counts.most_common(vocabulary_size)))\n",
        "\n",
        "# save for later\n",
        "token_counts_reference = Counter(token_counts)"
      ]
    },
    {
      "cell_type": "markdown",
      "metadata": {
        "id": "8nsYnwdFAFEo"
      },
      "source": [
        "### Let's parallelize (20% points)\n",
        "\n",
        "__Your task__ is to speed up the code above using using multiprocessing with queues and/or pipes _(or [shared memory](https://docs.python.org/3/library/multiprocessing.shared_memory.html) if you're up to that)_.\n",
        "\n",
        "__Kudos__ for implementing some form of global progress tracker (like progressbar above)\n",
        "\n",
        "Please do **not** use task executors (e.g. mp.pool, joblib, ProcessPoolExecutor), we'll get to them soon!"
      ]
    },
    {
      "cell_type": "code",
      "execution_count": 12,
      "metadata": {
        "colab": {
          "base_uri": "https://localhost:8080/"
        },
        "id": "aBWUNuOYpRXv",
        "outputId": "6a0ae774-d1cd-4c1f-ad98-06061374e4f4"
      },
      "outputs": [
        {
          "name": "stdout",
          "output_type": "stream",
          "text": [
            " 25%|██        | 1/4 [24.849122524261475s]\r\n",
            " 50%|█████     | 2/4 [24.935567378997803s]\r\n",
            " 75%|███████   | 3/4 [25.015480518341064s]\n",
            "100%|██████████| 4/4 [25.07087802886963s]\n"
          ]
        }
      ],
      "source": [
        "import time\n",
        "import math\n",
        "\n",
        "texts = data['train']['text'][:100_000]\n",
        "vocabulary_size = 32_000\n",
        "batch_size = 10_000\n",
        "\n",
        "num_threads = 4\n",
        "batches_count = math.ceil(len(texts) / batch_size)\n",
        "batch_per_thread = math.ceil(batches_count / num_threads)\n",
        "\n",
        "tokenizer = NLTKWordTokenizer()\n",
        "def my_compute_and_send(no, top_k, output_pipe):\n",
        "    thread_token_counts = Counter()\n",
        "    for i in range(batch_per_thread):\n",
        "        st, fi = no * batch_size * batch_per_thread + i * batch_size, no * batch_size * batch_per_thread + (i + 1) * batch_size\n",
        "        lines = texts[st: fi]\n",
        "        # print(f'start {no} st={st} fi={fi}')\n",
        "        sent_tokens = tokenizer.tokenize_sents(map(str.lower, lines))\n",
        "        # print(f'finish {no}')\n",
        "        thread_token_counts += Counter(dict(Counter([token for sent in sent_tokens for token in sent]).most_common(top_k)))\n",
        "    output_pipe.send(thread_token_counts)\n",
        "\n",
        "result_pipes = []\n",
        "for i in range(num_threads):\n",
        "    side_A, side_B = mp.Pipe(duplex=False)\n",
        "    result_pipes.append(side_A)\n",
        "    proc = mp.Process(target=my_compute_and_send, args=[i, vocabulary_size, side_B])\n",
        "    proc.start()\n",
        "\n",
        "token_counts = Counter()\n",
        "curr_time = time.time()\n",
        "for i, pipe in enumerate(result_pipes):\n",
        "    recv = pipe.recv()\n",
        "    token_counts += recv\n",
        "    delta_time = time.time() - curr_time\n",
        "    print(f'{str((i + 1) * 100 // len(result_pipes)).rjust(3)}%|{(\"█\" * ((i + 1) * 10 // len(result_pipes))).ljust(10, \" \")}| {i + 1}/{len(result_pipes)} [{delta_time}s]\\r')\n",
        "token_counts = Counter(dict(token_counts.most_common(vocabulary_size)))\n",
        "# token_counts"
      ]
    },
    {
      "cell_type": "code",
      "execution_count": 13,
      "metadata": {
        "colab": {
          "base_uri": "https://localhost:8080/"
        },
        "id": "ygCy9JSKAFEo",
        "outputId": "64ef100e-b8e6-4161-c5fa-992d0bd9c89f"
      },
      "outputs": [
        {
          "name": "stdout",
          "output_type": "stream",
          "text": [
            "Well done!\n"
          ]
        }
      ],
      "source": [
        "assert len(token_counts) == len(token_counts_reference)\n",
        "for token, ref_count in token_counts_reference.items():\n",
        "    assert token in token_counts, token\n",
        "    assert token_counts[token] == ref_count, token\n",
        "\n",
        "vocabulary = sorted(token_counts.keys())\n",
        "token_to_index = {token: i for i, token in enumerate(vocabulary)}\n",
        "assert len(vocabulary) == vocabulary_size, len(vocabulary)\n",
        "print(\"Well done!\")"
      ]
    },
    {
      "cell_type": "markdown",
      "metadata": {
        "id": "lgALuOgdAFEp"
      },
      "source": [
        "### Part 2: Construct co-occurence matrix (10% points)\n",
        "\n",
        "\n",
        "__Your task__ is to count co-occurences of all words in a 5-token window. Please use the same preprocessing and tokenizer as above.\n",
        "\n",
        "__Also:__ please only count words that are in the vocabulary defined above.\n",
        "\n",
        "![image.png](https://i.imgur.com/2XmhYn5.png)\n",
        "\n",
        "\n",
        "\n",
        "__Note:__ this task and everything below has no instructions/interfaces. We will design those interfaces __together on the seminar.__\n",
        "\n",
        "The detailed instructions will appear later this night after the seminar is over.\n",
        "However, if you want to write the code from scratch, feel free to ignore these instructions.\n"
      ]
    },
    {
      "cell_type": "code",
      "execution_count": 14,
      "metadata": {
        "id": "1N1acrkUAFEq"
      },
      "outputs": [],
      "source": [
        "import scipy\n",
        "\n",
        "def count_token_cooccurences(lines, vocabulary_size: int, window_size: int):\n",
        "    \"\"\" Tokenize lines and return top_k most frequent tokens and their counts \"\"\"\n",
        "    cooc = Counter()\n",
        "\n",
        "    for line in lines:\n",
        "        tokens = tokenizer.tokenize(line.lower())\n",
        "        token_ix = [token_to_index[token] for token in tokens\n",
        "                    if token in token_to_index]\n",
        "        \n",
        "        for i in range(len(token_ix)):\n",
        "            for j in range(max(i - window_size, 0),\n",
        "                           min(i + window_size + 1, len(token_ix))):\n",
        "                if i != j:\n",
        "                    cooc[token_ix[i], token_ix[j]] += 1 / abs(i - j)\n",
        "    return counter_to_matrix(cooc, vocabulary_size)\n",
        "\n",
        "def counter_to_matrix(counter, vocabulary_size):\n",
        "    keys, values = zip(*counter.items())\n",
        "    ii, jj = zip(*keys)\n",
        "    return scipy.sparse.csr_matrix((values, (ii, jj)), dtype='float32',\n",
        "                                   shape=(vocabulary_size, vocabulary_size))"
      ]
    },
    {
      "cell_type": "code",
      "execution_count": 15,
      "metadata": {
        "colab": {
          "base_uri": "https://localhost:8080/"
        },
        "id": "QpvoJI4TAFEq",
        "outputId": "9c2a1808-a21c-455f-b7bd-af0d343f90dc"
      },
      "outputs": [
        {
          "name": "stderr",
          "output_type": "stream",
          "text": [
            "100%|██████████| 10/10 [02:31<00:00, 15.18s/it]\n"
          ]
        }
      ],
      "source": [
        "texts = data['train']['text'][:100_000]\n",
        "batch_size = 10_000\n",
        "window_size = 5\n",
        "\n",
        "cooc = scipy.sparse.csr_matrix((vocabulary_size, vocabulary_size), dtype='float32')\n",
        "for batch_start in trange(0, len(texts), batch_size):\n",
        "    batch_texts = texts[batch_start: batch_start + batch_size]\n",
        "    batch_cooc = count_token_cooccurences(batch_texts, vocabulary_size, window_size)\n",
        "    cooc += batch_cooc\n",
        "    \n",
        "\n",
        "# This cell will run for a couple minutes, go get some tea!\n",
        "reference_cooc = cooc"
      ]
    },
    {
      "cell_type": "markdown",
      "metadata": {
        "id": "y-iwaVloAFEr"
      },
      "source": [
        "__Simple parallelism with `mp.Pool`__\n",
        "\n",
        "Many standard parallel tasks, such as applying the same function to an array of inputs, can be automated by using prebuilt primitives such as Pool."
      ]
    },
    {
      "cell_type": "code",
      "execution_count": 16,
      "metadata": {
        "colab": {
          "base_uri": "https://localhost:8080/"
        },
        "id": "aCe_-cMzAFEr",
        "outputId": "a6088564-0ba6-4597-9788-d12c1870de2c"
      },
      "outputs": [
        {
          "name": "stdout",
          "output_type": "stream",
          "text": [
            "Began foo(0)Began foo(4)Began foo(2)Began foo(1)Began foo(3)\n",
            "\n",
            "\n",
            "\n",
            "\n",
            "Done foo(3)Done foo(1)\n",
            "Done foo(0)\n",
            "Done foo(4)\n",
            "Done foo(2)\n",
            "\n"
          ]
        }
      ],
      "source": [
        "def foo(i):\n",
        "    print(f'Began foo({i})', flush=True)\n",
        "    time.sleep(1)\n",
        "    print(f'Done foo({i})', flush=True)\n",
        "    return i ** 2\n",
        "\n",
        "with mp.Pool(processes=8) as pool:\n",
        "    results = pool.map(foo, range(5))\n",
        "    \n",
        "# or use iterators:\n",
        "# for result in pool.imap(foo, range(5)):\n",
        "#    print('Got', result)"
      ]
    },
    {
      "cell_type": "markdown",
      "metadata": {
        "id": "-45tfQN7AFEs"
      },
      "source": [
        "__Our next step__ is to implement a parallel version of co-occurence computation using the process pool functionality.\n",
        "\n",
        "There are multiple alternatives to mp.Pool: [joblib.Parallel](https://joblib.readthedocs.io/en/latest/), [ProcessPoolExecutor](https://docs.python.org/3/library/concurrent.futures.html#concurrent.futures.ProcessPoolExecutor), [ipyparallel](https://github.com/ipython/ipyparallel), etc. Feel free to use whichever one you prefer."
      ]
    },
    {
      "cell_type": "code",
      "execution_count": 17,
      "metadata": {
        "id": "mSp_OQzxAFEs",
        "scrolled": true
      },
      "outputs": [],
      "source": [
        "texts = data['train']['text'][:100_000]\n",
        "batch_size = 10_000\n",
        "window_size = 5\n",
        "\n",
        "num_threads = 4\n",
        "batches_count = math.ceil(len(texts) / batch_size)\n",
        "batch_per_thread = math.ceil(batches_count / num_threads)\n",
        "\n",
        "def my_foo(no):\n",
        "    thread_cooc = scipy.sparse.csr_matrix((vocabulary_size, vocabulary_size), dtype='float32')\n",
        "    for i in range(batch_per_thread):\n",
        "        st, fi = no * batch_size * batch_per_thread + i * batch_size, no * batch_size * batch_per_thread + (i + 1) * batch_size\n",
        "        batch_texts = texts[st: fi]\n",
        "        if batch_texts:\n",
        "            thread_cooc += count_token_cooccurences(batch_texts, vocabulary_size, window_size)\n",
        "    return thread_cooc\n",
        "\n",
        "cooc = scipy.sparse.csr_matrix((vocabulary_size, vocabulary_size), dtype='float32')\n",
        "with mp.Pool(processes=8) as pool:\n",
        "    results = pool.map(my_foo, range(num_threads))\n",
        "\n",
        "for batch_cooc in results:\n",
        "    cooc += batch_cooc"
      ]
    },
    {
      "cell_type": "code",
      "execution_count": 18,
      "metadata": {
        "colab": {
          "base_uri": "https://localhost:8080/"
        },
        "id": "oPG1qkXIAFEs",
        "outputId": "94b35f11-ee43-4764-b346-cc5b90393149"
      },
      "outputs": [
        {
          "name": "stderr",
          "output_type": "stream",
          "text": [
            "100%|██████████| 100000/100000 [00:13<00:00, 7488.92it/s]"
          ]
        },
        {
          "name": "stdout",
          "output_type": "stream",
          "text": [
            "Perfect!\n"
          ]
        },
        {
          "name": "stderr",
          "output_type": "stream",
          "text": [
            "\n"
          ]
        }
      ],
      "source": [
        "assert isinstance(cooc, scipy.sparse.csr_matrix)\n",
        "assert cooc.nnz == reference_cooc.nnz\n",
        "for _ in trange(100_000):\n",
        "    i, j = np.random.randint(0, vocabulary_size, size=2)\n",
        "    assert np.allclose(cooc[i, j], reference_cooc[i, j])\n",
        "\n",
        "print(\"Perfect!\")"
      ]
    },
    {
      "cell_type": "markdown",
      "metadata": {
        "id": "zanNUlMpAFEt"
      },
      "source": [
        "__Preprocess and save the full data__\n",
        "\n",
        "Finally, let's run the preprocessing code for the entire dataset and save the results for training."
      ]
    },
    {
      "cell_type": "code",
      "execution_count": 19,
      "metadata": {
        "colab": {
          "base_uri": "https://localhost:8080/"
        },
        "id": "MQLkgNtUAFEt",
        "outputId": "c4aebf62-5b12-423e-81a3-1daa0baa1717"
      },
      "outputs": [
        {
          "name": "stdout",
          "output_type": "stream",
          "text": [
            " 25%|██        | 1/4 [453.9580774307251s]\n",
            " 50%|█████     | 2/4 [454.5281946659088s]\n",
            " 75%|███████   | 3/4 [454.8835680484772s]\n",
            "100%|██████████| 4/4 [455.24490118026733s]\n"
          ]
        }
      ],
      "source": [
        "texts = data['train']['text']\n",
        "vocabulary_size = 32_000\n",
        "batch_size = 10_000\n",
        "window_size = 5\n",
        "\n",
        "# YOUR CODE: compute both vocabulary and cooc on the entire training corpora and save the results\n",
        "\n",
        "num_threads = 4\n",
        "batches_count = math.ceil(len(texts) / batch_size)\n",
        "batch_per_thread = math.ceil(batches_count / num_threads)\n",
        "\n",
        "result_pipes = []\n",
        "for i in range(num_threads):\n",
        "    side_A, side_B = mp.Pipe(duplex=False)\n",
        "    result_pipes.append(side_A)\n",
        "    proc = mp.Process(target=my_compute_and_send, args=[i, vocabulary_size, side_B])\n",
        "    proc.start()\n",
        "\n",
        "token_counts = Counter()\n",
        "curr_time = time.time()\n",
        "for i, pipe in enumerate(result_pipes):\n",
        "    recv = pipe.recv()\n",
        "    token_counts += recv\n",
        "    delta_time = time.time() - curr_time\n",
        "    print(f'{str((i + 1) * 100 // len(result_pipes)).rjust(3)}%|{(\"█\" * ((i + 1) * 10 // len(result_pipes))).ljust(10, \" \")}| {i + 1}/{len(result_pipes)} [{delta_time}s]\\r')\n",
        "token_counts = Counter(dict(token_counts.most_common(vocabulary_size)))\n",
        "vocabulary = sorted(token_counts.keys())\n",
        "\n",
        "cooc = scipy.sparse.csr_matrix((vocabulary_size, vocabulary_size), dtype='float32')\n",
        "with mp.Pool(processes=8) as pool:\n",
        "    results = pool.map(my_foo, range(num_threads))\n",
        "\n",
        "for batch_cooc in results:\n",
        "    cooc += batch_cooc"
      ]
    },
    {
      "cell_type": "code",
      "execution_count": 20,
      "metadata": {
        "id": "CdxoorbBAFEu"
      },
      "outputs": [],
      "source": [
        "assert len(vocabulary) == vocabulary_size\n",
        "assert cooc.shape == (vocabulary_size, vocabulary_size)\n",
        "assert 440_000_000 < np.sum(cooc) < 450_000_000\n",
        "assert 0.05 < cooc.nnz / vocabulary_size ** 2 < 0.06"
      ]
    },
    {
      "cell_type": "code",
      "execution_count": 21,
      "metadata": {
        "id": "GZXhjIFJAFEu"
      },
      "outputs": [],
      "source": [
        "import pickle\n",
        "with open('preprocessed_data.pcl', 'wb') as f:\n",
        "    pickle.dump((vocabulary, cooc.tocoo()), f)"
      ]
    },
    {
      "cell_type": "markdown",
      "metadata": {
        "id": "2rN314cCAFEu"
      },
      "source": [
        "### Finally, GloVe!  (20% points)"
      ]
    },
    {
      "cell_type": "code",
      "execution_count": 22,
      "metadata": {
        "id": "vNLaUatnAFEu"
      },
      "outputs": [],
      "source": [
        "import pickle\n",
        "with open('preprocessed_data.pcl', 'rb') as f:\n",
        "    vocabulary, cooc = pickle.load(f)"
      ]
    },
    {
      "cell_type": "markdown",
      "metadata": {
        "id": "1e401y6JAFEu"
      },
      "source": [
        "### Weight function\n",
        "![image.png](https://i.imgur.com/Cdu6BJ5.png)"
      ]
    },
    {
      "cell_type": "code",
      "execution_count": 23,
      "metadata": {
        "id": "-O7lIzauAFEw"
      },
      "outputs": [],
      "source": [
        "def compute_loss_weights(counts_ij):\n",
        "    \"\"\" Compute GloVe weights \"\"\"\n",
        "    x_max = 100\n",
        "    alpha = 0.75\n",
        "    w = (counts_ij / x_max) ** alpha\n",
        "    w = np.clip(w, 0.0, 1.0)\n",
        "    return w"
      ]
    },
    {
      "cell_type": "code",
      "execution_count": 24,
      "metadata": {
        "id": "OTya47l8AFEw"
      },
      "outputs": [],
      "source": [
        "dummy_weights = compute_loss_weights(np.arange(0, 200, 30))\n",
        "dummy_reference_weights = [0. , 0.40536, 0.681731, 0.92402, 1. , 1. , 1.]\n",
        "assert np.allclose(dummy_weights, dummy_reference_weights, rtol=1e-4, atol=1e-3)"
      ]
    },
    {
      "cell_type": "markdown",
      "metadata": {
        "id": "E4a6DJqjAFEw"
      },
      "source": [
        "### Loss function\n",
        "\n",
        "![img](https://i.imgur.com/I8nDIV1.png)\n",
        "\n",
        "\n",
        "__The goal__ is to compute the loss function as per formula above. The only difference is that you should take _mean_ over batch instead of sum."
      ]
    },
    {
      "cell_type": "code",
      "execution_count": 44,
      "metadata": {
        "id": "bempH2-4AFEw"
      },
      "outputs": [],
      "source": [
        "def compute_loss(emb_ii, emb_jj, bias_ii, bias_jj, counts_ij):\n",
        "    \"\"\"\n",
        "    Compute GloVe loss function given embeddings, biases and targets\n",
        "    \n",
        "    :param emb_ii, emb_jj: vectors of left- and right-side words, shape: [batch_size, embedding_dimension]\n",
        "    :param bias_ii, bias_jj: biases for left- and right-side words, shape: [batch_size]\n",
        "    :param counts_ij: values from co-occurence matrix, shape: [batch_size]\n",
        "    :returns: mean GloVe loss over batch, shape: scalar\n",
        "    \"\"\"\n",
        "    weights = compute_loss_weights(counts_ij)\n",
        "    target = np.log(counts_ij)\n",
        "    L = weights * ((emb_ii * emb_jj).sum(axis=1) + bias_ii + bias_jj - target) ** 2\n",
        "\n",
        "    return np.mean(L)"
      ]
    },
    {
      "cell_type": "code",
      "execution_count": 45,
      "metadata": {
        "id": "IFO8TyMkAFEx"
      },
      "outputs": [],
      "source": [
        "dummy_emb_ii = np.sin(np.linspace(0, 10, 40)).reshape(4, 10)\n",
        "dummy_emb_jj = np.cos(np.linspace(10, 20, 40)).reshape(4, 10)\n",
        "dummy_bias_ii = np.linspace(-3, 2, 4)\n",
        "dummy_bias_jj = np.linspace(4, -1, 4)\n",
        "dummy_counts_ij = np.abs(np.sin(np.linspace(1, 100, 4)) * 150)\n",
        "\n",
        "dummy_loss = compute_loss(dummy_emb_ii, dummy_emb_jj, dummy_bias_ii, dummy_bias_jj, dummy_counts_ij)\n",
        "\n",
        "assert np.shape(dummy_loss) == ()\n",
        "assert np.allclose(dummy_loss, 1.84289356)"
      ]
    },
    {
      "cell_type": "code",
      "execution_count": 55,
      "metadata": {
        "id": "c81syAvPAFEx"
      },
      "outputs": [],
      "source": [
        "def compute_grads(emb_ii, emb_jj, bias_ii, bias_jj, counts_ij):\n",
        "    \"\"\"\n",
        "    Compute gradients of GloVe loss with respect to emb_ii/jj and bias_ii/jj\n",
        "    Assume the same parameter shapes as above\n",
        "    :returns: (grad_wrt_emb_ii, grad_wrt_emb_jj, grad_wrt_bias_ii, grad_wrt_bias_jj)\n",
        "    \"\"\"\n",
        "    weights = compute_loss_weights(counts_ij)\n",
        "    target = np.log(counts_ij)\n",
        "\n",
        "    grad_wrt_bias_ii = 2 * weights * ((emb_ii * emb_jj).sum(axis=1) + bias_ii + bias_jj - target) / target.shape[0]\n",
        "    grad_wrt_bias_jj = 2 * weights * ((emb_ii * emb_jj).sum(axis=1) + bias_ii + bias_jj - target) / target.shape[0]\n",
        "    grad_wrt_emb_ii = grad_wrt_bias_ii.reshape(-1, 1) * emb_jj\n",
        "    grad_wrt_emb_jj = grad_wrt_bias_jj.reshape(-1, 1) * emb_ii\n",
        "    \n",
        "    return grad_wrt_emb_ii, grad_wrt_emb_jj, grad_wrt_bias_ii, grad_wrt_bias_jj"
      ]
    },
    {
      "cell_type": "code",
      "execution_count": 56,
      "metadata": {
        "id": "WMKNKChwAFEx"
      },
      "outputs": [],
      "source": [
        "grad_emb_ii, grad_emb_jj, grad_bias_ii, grad_bias_jj = compute_grads(\n",
        "    dummy_emb_ii, dummy_emb_jj, dummy_bias_ii, dummy_bias_jj, dummy_counts_ij)\n",
        "\n",
        "assert np.shape(grad_emb_ii) == np.shape(grad_emb_jj) == np.shape(dummy_emb_ii)\n",
        "assert np.shape(grad_bias_ii) == np.shape(grad_bias_jj) == np.shape(dummy_bias_ii)"
      ]
    },
    {
      "cell_type": "code",
      "execution_count": 57,
      "metadata": {
        "colab": {
          "base_uri": "https://localhost:8080/"
        },
        "id": "LBrXg99RAFEy",
        "outputId": "27ba327c-45b9-46a1-96e9-9c1a1e2b832b"
      },
      "outputs": [
        {
          "name": "stdout",
          "output_type": "stream",
          "text": [
            "dL/db[ii] OK\n",
            "dL/db[jj] OK\n"
          ]
        }
      ],
      "source": [
        "from utils import eval_numerical_gradient\n",
        "reference_grad_bias_ii = eval_numerical_gradient(\n",
        "    lambda x: compute_loss(dummy_emb_ii, dummy_emb_jj, x, dummy_bias_jj, dummy_counts_ij),\n",
        "    x=dummy_bias_ii)\n",
        "\n",
        "assert np.allclose(reference_grad_bias_ii, grad_bias_ii, rtol=1e-4, atol=1e-3)\n",
        "print(\"dL/db[ii] OK\")\n",
        "\n",
        "reference_grad_bias_jj = eval_numerical_gradient(\n",
        "    lambda x: compute_loss(dummy_emb_ii, dummy_emb_jj, dummy_bias_ii, x, dummy_counts_ij),\n",
        "    x=dummy_bias_jj)\n",
        "\n",
        "assert np.allclose(reference_grad_bias_jj, grad_bias_jj, rtol=1e-4, atol=1e-3)\n",
        "print(\"dL/db[jj] OK\")"
      ]
    },
    {
      "cell_type": "code",
      "execution_count": 58,
      "metadata": {
        "colab": {
          "base_uri": "https://localhost:8080/"
        },
        "id": "v8Unp2sHAFEy",
        "outputId": "5b97f5cd-eaae-4a7a-f4ff-10c638bd5f8a"
      },
      "outputs": [
        {
          "name": "stdout",
          "output_type": "stream",
          "text": [
            "dL/dEmb[ii] OK\n",
            "dL/dEmb[ii] OK\n",
            "All tests passed!\n"
          ]
        }
      ],
      "source": [
        "reference_grad_emb_ii = eval_numerical_gradient(\n",
        "    lambda x: compute_loss(x, dummy_emb_jj, dummy_bias_ii, dummy_bias_jj, dummy_counts_ij),\n",
        "    x=dummy_emb_ii)\n",
        "\n",
        "assert np.allclose(reference_grad_emb_ii, grad_emb_ii, rtol=1e-4, atol=1e-3)\n",
        "print(\"dL/dEmb[ii] OK\")\n",
        "\n",
        "\n",
        "reference_grad_emb_jj = eval_numerical_gradient(\n",
        "    lambda x: compute_loss(dummy_emb_ii, x, dummy_bias_ii, dummy_bias_jj, dummy_counts_ij),\n",
        "    x=dummy_emb_jj)\n",
        "\n",
        "assert np.allclose(reference_grad_emb_jj, grad_emb_jj, rtol=1e-4, atol=1e-3)\n",
        "print(\"dL/dEmb[ii] OK\")\n",
        "\n",
        "print(\"All tests passed!\")"
      ]
    },
    {
      "cell_type": "markdown",
      "metadata": {
        "id": "qiRd2ERLAFEz"
      },
      "source": [
        "### Part 3: Parallel GloVe training (50% points)\n",
        "\n",
        "Finally, let's write the actual parameter server for parallel GloVe training. In order to do so efficiently, we shall use shared memory instead of pipes.\n",
        "\n",
        "You can find an example of how shared memory works below:\n"
      ]
    },
    {
      "cell_type": "markdown",
      "metadata": {
        "id": "n8AF358WAFE0"
      },
      "source": [
        "### Demo: shared memory"
      ]
    },
    {
      "cell_type": "code",
      "execution_count": 59,
      "metadata": {
        "id": "-X0UxoWpAFE0"
      },
      "outputs": [],
      "source": [
        "def make_shared_array(shape, dtype, fill=None, lock=True):\n",
        "    \"\"\" Create a numpy array that is shared across processes. \"\"\"\n",
        "    size = int(np.prod(shape))\n",
        "    ctype = np.ctypeslib.as_ctypes_type(dtype)\n",
        "    if lock:\n",
        "        x_mp = mp.Array(ctype, size, lock=True).get_obj()\n",
        "    else:\n",
        "        x_mp = mp.Array(ctype, size, lock=False)\n",
        "    array = np.ctypeslib.as_array(x_mp)\n",
        "    if fill is not None:\n",
        "        array[...] = fill\n",
        "    return np.reshape(array, shape)"
      ]
    },
    {
      "cell_type": "code",
      "execution_count": 60,
      "metadata": {
        "id": "9Lc775zDAFE1"
      },
      "outputs": [],
      "source": [
        "shared_array = make_shared_array((5, 5), 'float32', fill=1)\n",
        "normal_array = np.ones((5, 5), 'float32')"
      ]
    },
    {
      "cell_type": "code",
      "execution_count": 61,
      "metadata": {
        "id": "yXishO2FAFE2"
      },
      "outputs": [],
      "source": [
        "def proc_A():\n",
        "    time.sleep(0.5)\n",
        "    print(\"A: setting value at [2, 3]\")\n",
        "    shared_array[2, 3] = 42\n",
        "    normal_array[2, 3] = 42\n",
        "    time.sleep(1)\n",
        "    print(f\"B: value after 1.5s: normal = {normal_array[2, 3]}\\t shared = {shared_array[2, 3]}\")\n",
        "    \n",
        "def proc_B():\n",
        "    print(f\"B: initial value: normal = {normal_array[2, 3]}\\t shared = {shared_array[2, 3]}\")\n",
        "    time.sleep(1)\n",
        "    print(f\"B: value after 1s: normal = {normal_array[2, 3]}\\t shared = {shared_array[2, 3]}\")\n",
        "    print(\"A: dividing value at [2, 3] by 2\")\n",
        "    shared_array[2, 3] /= 2\n",
        "    normal_array[2, 3] /= 2"
      ]
    },
    {
      "cell_type": "code",
      "execution_count": 62,
      "metadata": {
        "colab": {
          "base_uri": "https://localhost:8080/"
        },
        "id": "81N-7Xi9AFE3",
        "outputId": "884e2b91-7590-41a6-a35c-614c743689f8"
      },
      "outputs": [
        {
          "name": "stdout",
          "output_type": "stream",
          "text": [
            "B: initial value: normal = 1.0\t shared = 1.0\n"
          ]
        }
      ],
      "source": [
        "mp.Process(target=proc_A).start()\n",
        "mp.Process(target=proc_B).start()"
      ]
    },
    {
      "cell_type": "code",
      "execution_count": 63,
      "metadata": {
        "id": "BWm-b7dRAFE4"
      },
      "outputs": [],
      "source": [
        "# the same can be done with individual values:\n",
        "x = mp.Value(np.ctypeslib.as_ctypes_type(np.int32))\n",
        "x.value += 1 # shared across all processes"
      ]
    },
    {
      "cell_type": "markdown",
      "metadata": {
        "id": "gG-du4ddAFE6"
      },
      "source": [
        "__So, let's put all trainable parameters in shared memory!__"
      ]
    },
    {
      "cell_type": "code",
      "execution_count": 64,
      "metadata": {
        "id": "c1JB__1kAFE6",
        "scrolled": true
      },
      "outputs": [],
      "source": [
        "class SharedEmbeddings:\n",
        "    \"\"\"\n",
        "    Word embeddings trainable parameters, allocated in shared memory\n",
        "    \"\"\"\n",
        "    def __init__(self, vocabulary_size: int, embedding_dimension: int, init_scale: float = 0.01):\n",
        "        self.embeddings = make_shared_array([vocabulary_size, embedding_dimension], np.float32, lock=False)\n",
        "        self.embeddings[...] = np.random.randn(*self.embeddings.shape) * init_scale\n",
        "        \n",
        "        self.biases = make_shared_array([vocabulary_size], np.float32, fill=0.0, lock=False)"
      ]
    },
    {
      "cell_type": "markdown",
      "metadata": {
        "id": "gr5PV0MfAFE6"
      },
      "source": [
        "### Training (single-core baseline)"
      ]
    },
    {
      "cell_type": "code",
      "execution_count": 65,
      "metadata": {
        "id": "ZWJrOBAAAFE7"
      },
      "outputs": [],
      "source": [
        "batch_size = 64\n",
        "learning_rate = 0.01\n",
        "max_steps = 10 ** 6\n",
        "\n",
        "start_time = time.perf_counter()\n",
        "timestep_history = []\n",
        "loss_history = []\n",
        "\n",
        "model = SharedEmbeddings(vocabulary_size, embedding_dimension=256)"
      ]
    },
    {
      "cell_type": "code",
      "execution_count": 66,
      "metadata": {
        "colab": {
          "base_uri": "https://localhost:8080/",
          "height": 296
        },
        "id": "kYwgvX5CAFE7",
        "outputId": "f4cef09e-feda-4be5-ce52-de0142ad55c4"
      },
      "outputs": [
        {
          "data": {
            "image/png": "[encoded data removed]",
            "text/plain": [
              "<Figure size 432x288 with 1 Axes>"
            ]
          },
          "metadata": {
            "needs_background": "light"
          },
          "output_type": "display_data"
        },
        {
          "name": "stderr",
          "output_type": "stream",
          "text": [
            "100%|██████████| 1000000/1000000 [05:42<00:00, 2923.94it/s]\n"
          ]
        }
      ],
      "source": [
        "for t in trange(max_steps):\n",
        "    batch_ix = np.random.randint(0, len(cooc.row), size=batch_size)\n",
        "    ii, jj, counts_ij = cooc.row[batch_ix], cooc.col[batch_ix], cooc.data[batch_ix]\n",
        "    \n",
        "    # Compute gradients\n",
        "    emb_ii, emb_jj, bias_ii, bias_jj = \\\n",
        "      model.embeddings[ii], model.embeddings[jj], model.biases[ii], model.biases[jj]\n",
        "    \n",
        "    grad_emb_ii, grad_emb_jj, grad_bias_ii, grad_bias_jj = compute_grads(\n",
        "        emb_ii, emb_jj, bias_ii, bias_jj, counts_ij)\n",
        "    \n",
        "    # SGD step\n",
        "    model.embeddings[ii] -= learning_rate * grad_emb_ii\n",
        "    model.embeddings[jj] -= learning_rate * grad_emb_jj\n",
        "    model.biases[ii] -= learning_rate * grad_bias_ii\n",
        "    model.biases[jj] -= learning_rate * grad_bias_jj\n",
        "    \n",
        "    if t % 10_000 == 0:\n",
        "        batch_ix = np.random.randint(0, len(cooc.row), size=4096)\n",
        "        ii, jj, counts_ij = cooc.row[batch_ix], cooc.col[batch_ix], cooc.data[batch_ix]\n",
        "        emb_ii, emb_jj, bias_ii, bias_jj = \\\n",
        "            model.embeddings[ii], model.embeddings[jj], model.biases[ii], model.biases[jj]\n",
        "        \n",
        "        timestep_history.append(time.perf_counter() - start_time)\n",
        "        loss_history.append(compute_loss(emb_ii, emb_jj, bias_ii, bias_jj, counts_ij))\n",
        "        clear_output(True)\n",
        "        plt.plot(timestep_history, loss_history)\n",
        "        plt.xlabel('training time(seconds)')\n",
        "        plt.grid()\n",
        "        plt.show()\n",
        "    \n",
        "    "
      ]
    },
    {
      "cell_type": "markdown",
      "metadata": {
        "id": "noZiGvffAFE8"
      },
      "source": [
        "__Now let's parallelize it!__\n",
        "\n",
        "The code above is cute, but it only uses one CPU core. Surely we can go faster!\n",
        "\n",
        "The main challenge in this week's seminar is to speed up GloVe training by all means necessary.\n",
        "\n",
        "Here's what you should do:\n",
        "* make multiple parallel workers, each training your model on different random data,\n",
        "* build some centralized means of progress tracking: track the average loss and the number of training steps,\n",
        "* implement workers in such a way that no process is left hanging after the training is over.\n",
        "\n",
        "\n",
        "Finally, please compare the loss / training time plot of your algorithm against the baseline.\n",
        "\n",
        "_Notes:_\n",
        "* Remember to set a different np.random.seed in each worker!\n",
        "* You can track the training progress either via mp.Pipe or via shared variables\n",
        "* It is better to separate training and plotting into different processes\n",
        "* If you want to prevent concurrent updates to shared memory, you can use [mp.Lock](https://docs.python.org/3/library/multiprocessing.html#multiprocessing.Lock) or similar."
      ]
    },
    {
      "cell_type": "code",
      "execution_count": 402,
      "metadata": {
        "id": "uTD4WQtjAFE9"
      },
      "outputs": [],
      "source": [
        "# optional preparations, auxiliary functions, locks, pipes, etc.\n",
        "\n",
        "num_threads = 8\n",
        "max_time = 350\n",
        "\n",
        "batch_size = 64\n",
        "learning_rate = 0.01\n",
        "max_steps = 10 ** 6\n",
        "\n",
        "model = SharedEmbeddings(vocabulary_size, embedding_dimension=256)\n",
        "\n",
        "shared_losses = make_shared_array([num_threads], np.float32, fill=0.0, lock=False)\n",
        "timestep_history = make_shared_array([max_time], np.float32, fill=0.0, lock=False)\n",
        "loss_history = make_shared_array([max_time], np.float32, fill=0.0, lock=False)\n",
        "\n",
        "\n",
        "def proc_A(no):\n",
        "    np.random.seed(no)\n",
        "    for t in trange(max_steps // num_threads):\n",
        "        batch_ix = np.random.randint(0, len(cooc.row), size=batch_size)\n",
        "        ii, jj, counts_ij = cooc.row[batch_ix], cooc.col[batch_ix], cooc.data[batch_ix]\n",
        "        \n",
        "        # Compute gradients\n",
        "        emb_ii, emb_jj, bias_ii, bias_jj = \\\n",
        "        model.embeddings[ii], model.embeddings[jj], model.biases[ii], model.biases[jj]\n",
        "        \n",
        "        grad_emb_ii, grad_emb_jj, grad_bias_ii, grad_bias_jj = compute_grads(\n",
        "            emb_ii, emb_jj, bias_ii, bias_jj, counts_ij)\n",
        "        \n",
        "        # SGD step\n",
        "        model.embeddings[ii] -= learning_rate * grad_emb_ii\n",
        "        model.embeddings[jj] -= learning_rate * grad_emb_jj\n",
        "        model.biases[ii] -= learning_rate * grad_bias_ii\n",
        "        model.biases[jj] -= learning_rate * grad_bias_jj\n",
        "        \n",
        "        if t % 1000 == 0:\n",
        "            batch_ix = np.random.randint(0, len(cooc.row), size=4096)\n",
        "            ii, jj, counts_ij = cooc.row[batch_ix], cooc.col[batch_ix], cooc.data[batch_ix]\n",
        "            emb_ii, emb_jj, bias_ii, bias_jj = \\\n",
        "                model.embeddings[ii], model.embeddings[jj], model.biases[ii], model.biases[jj]\n",
        "            \n",
        "            shared_losses[no] = compute_loss(emb_ii, emb_jj, bias_ii, bias_jj, counts_ij)\n",
        "    \n",
        "\n",
        "def proc_B():\n",
        "    start_time = time.perf_counter()\n",
        "    for i in range(max_time):\n",
        "        print(i)\n",
        "        time.sleep(1)\n",
        "        timestep_history[i] = time.perf_counter() - start_time\n",
        "        loss_history[i] = np.mean(shared_losses)\n",
        "\n",
        "    print('End!')"
      ]
    },
    {
      "cell_type": "code",
      "execution_count": 403,
      "metadata": {
        "colab": {
          "base_uri": "https://localhost:8080/"
        },
        "id": "l1rzK0y8R53L",
        "outputId": "e6848012-8b76-43b6-81a3-420ea61aa43a"
      },
      "outputs": [
        {
          "name": "stdout",
          "output_type": "stream",
          "text": [
            "0\n"
          ]
        }
      ],
      "source": [
        "# actually train the model, track performance, and clean up at the end\n",
        "for nt in range(num_threads):\n",
        "    mp.Process(target=proc_A, args=[nt]).start()\n",
        "mp.Process(target=proc_B).start()"
      ]
    },
    {
      "cell_type": "code",
      "execution_count": null,
      "metadata": {
        "id": "nQMb0n1bjAGc"
      },
      "outputs": [],
      "source": [
        "time.sleep(max_time + 5)"
      ]
    },
    {
      "cell_type": "code",
      "execution_count": 425,
      "metadata": {
        "colab": {
          "base_uri": "https://localhost:8080/",
          "height": 282
        },
        "id": "qMDNPUphYnGC",
        "outputId": "1423bf0b-b620-4435-a152-8db32311e1ca"
      },
      "outputs": [
        {
          "data": {
            "text/plain": [
              "[<matplotlib.lines.Line2D at 0x7ff87afc2190>]"
            ]
          },
          "execution_count": 425,
          "metadata": {},
          "output_type": "execute_result"
        },
        {
          "data": {
            "image/png": "[encoded data removed]",
            "text/plain": [
              "<Figure size 432x288 with 1 Axes>"
            ]
          },
          "metadata": {
            "needs_background": "light"
          },
          "output_type": "display_data"
        }
      ],
      "source": [
        "plt.plot(timestep_history, loss_history)"
      ]
    },
    {
      "attachments": {},
      "cell_type": "markdown",
      "metadata": {
        "id": "ME0lZHuKAFE-"
      },
      "source": [
        "Hello, I'm `Владислав Рубанов` and here's what i've done.\n",
        "\n",
        "*Отчет*:\n",
        "* обучение с *shared memory* оказалось более \"плавным\", чем у `single-core baseline`, которого несколько \"шатало\"\n",
        "* работа выполнялась в относительно медленном Google Colab, однако, тем не менее, видно, что при одинаковом `max_time = 350` второй алгоритм сделал во много раз больше итераций (шагов), чем превый\n",
        "* однако алгоритм `single-core baseline` ближе приблизился к оптимуму: его итоговый лосс примерно равен 0.1, в то время как у последнего алгоритма — около 0.15\n",
        "* при обучении алгоритма с *shared memory* наблюдается некоторая цикличность в процессе обучения: каждые несколько итераций лосс поднимается, а затем снижается дальше; у `single-core baseline` все выглядит более стохастично"
      ]
    },
    {
      "cell_type": "code",
      "execution_count": null,
      "metadata": {},
      "outputs": [],
      "source": []
    }
  ],
  "metadata": {
    "colab": {
      "provenance": []
    },
    "kernelspec": {
      "display_name": "base",
      "language": "python",
      "name": "python3"
    },
    "language_info": {
      "codemirror_mode": {
        "name": "ipython",
        "version": 3
      },
      "file_extension": ".py",
      "mimetype": "text/x-python",
      "name": "python",
      "nbconvert_exporter": "python",
      "pygments_lexer": "ipython3",
      "version": "3.9.7"
    },
    "vscode": {
      "interpreter": {
        "hash": "2043299c89c8cd0b4d1a6f5cf4529bd58e6a4e0fe3181a25e0d328c821cdc5c5"
      }
    },
    "widgets": {
      "application/vnd.jupyter.widget-state+json": {
        "017662e7d2484883b0f62daa7a2e56ce": {
          "model_module": "@jupyter-widgets/controls",
          "model_module_version": "1.5.0",
          "model_name": "HTMLModel",
          "state": {
            "_dom_classes": [],
            "_model_module": "@jupyter-widgets/controls",
            "_model_module_version": "1.5.0",
            "_model_name": "HTMLModel",
            "_view_count": null,
            "_view_module": "@jupyter-widgets/controls",
            "_view_module_version": "1.5.0",
            "_view_name": "HTMLView",
            "description": "",
            "description_tooltip": null,
            "layout": "IPY_MODEL_add1714da32d445a9b9160a13ed6e05e",
            "placeholder": "​",
            "style": "IPY_MODEL_892fcfdf4dcb47789d1746bd942053bb",
            "value": " 8.48k/8.48k [00:00&lt;00:00, 201kB/s]"
          }
        },
        "05b3108f02f04d899d809c7f1a64bbe7": {
          "model_module": "@jupyter-widgets/controls",
          "model_module_version": "1.5.0",
          "model_name": "HTMLModel",
          "state": {
            "_dom_classes": [],
            "_model_module": "@jupyter-widgets/controls",
            "_model_module_version": "1.5.0",
            "_model_name": "HTMLModel",
            "_view_count": null,
            "_view_module": "@jupyter-widgets/controls",
            "_view_module_version": "1.5.0",
            "_view_name": "HTMLView",
            "description": "",
            "description_tooltip": null,
            "layout": "IPY_MODEL_795561dabb20416ab8c3266c197a4113",
            "placeholder": "​",
            "style": "IPY_MODEL_08230b0dcf4d469db5ac3750a61e6a04",
            "value": " 1801000/1801350 [00:45&lt;00:00, 42576.68 examples/s]"
          }
        },
        "06f848cc4cde469987817447e7981dd2": {
          "model_module": "@jupyter-widgets/controls",
          "model_module_version": "1.5.0",
          "model_name": "DescriptionStyleModel",
          "state": {
            "_model_module": "@jupyter-widgets/controls",
            "_model_module_version": "1.5.0",
            "_model_name": "DescriptionStyleModel",
            "_view_count": null,
            "_view_module": "@jupyter-widgets/base",
            "_view_module_version": "1.2.0",
            "_view_name": "StyleView",
            "description_width": ""
          }
        },
        "08230b0dcf4d469db5ac3750a61e6a04": {
          "model_module": "@jupyter-widgets/controls",
          "model_module_version": "1.5.0",
          "model_name": "DescriptionStyleModel",
          "state": {
            "_model_module": "@jupyter-widgets/controls",
            "_model_module_version": "1.5.0",
            "_model_name": "DescriptionStyleModel",
            "_view_count": null,
            "_view_module": "@jupyter-widgets/base",
            "_view_module_version": "1.2.0",
            "_view_name": "StyleView",
            "description_width": ""
          }
        },
        "0b8593f161704322be109f19f2e21cbf": {
          "model_module": "@jupyter-widgets/controls",
          "model_module_version": "1.5.0",
          "model_name": "HTMLModel",
          "state": {
            "_dom_classes": [],
            "_model_module": "@jupyter-widgets/controls",
            "_model_module_version": "1.5.0",
            "_model_name": "HTMLModel",
            "_view_count": null,
            "_view_module": "@jupyter-widgets/controls",
            "_view_module_version": "1.5.0",
            "_view_name": "HTMLView",
            "description": "",
            "description_tooltip": null,
            "layout": "IPY_MODEL_f2c54d9c08bd41e194875db16013d951",
            "placeholder": "​",
            "style": "IPY_MODEL_f0663d94714944f4919a1091ead49f08",
            "value": "Generating train split: 100%"
          }
        },
        "0bb00df241ac453985d26cf9b4099c1b": {
          "model_module": "@jupyter-widgets/controls",
          "model_module_version": "1.5.0",
          "model_name": "DescriptionStyleModel",
          "state": {
            "_model_module": "@jupyter-widgets/controls",
            "_model_module_version": "1.5.0",
            "_model_name": "DescriptionStyleModel",
            "_view_count": null,
            "_view_module": "@jupyter-widgets/base",
            "_view_module_version": "1.2.0",
            "_view_name": "StyleView",
            "description_width": ""
          }
        },
        "0f8e99591aff453dad141de6fd53a792": {
          "model_module": "@jupyter-widgets/base",
          "model_module_version": "1.2.0",
          "model_name": "LayoutModel",
          "state": {
            "_model_module": "@jupyter-widgets/base",
            "_model_module_version": "1.2.0",
            "_model_name": "LayoutModel",
            "_view_count": null,
            "_view_module": "@jupyter-widgets/base",
            "_view_module_version": "1.2.0",
            "_view_name": "LayoutView",
            "align_content": null,
            "align_items": null,
            "align_self": null,
            "border": null,
            "bottom": null,
            "display": null,
            "flex": null,
            "flex_flow": null,
            "grid_area": null,
            "grid_auto_columns": null,
            "grid_auto_flow": null,
            "grid_auto_rows": null,
            "grid_column": null,
            "grid_gap": null,
            "grid_row": null,
            "grid_template_areas": null,
            "grid_template_columns": null,
            "grid_template_rows": null,
            "height": null,
            "justify_content": null,
            "justify_items": null,
            "left": null,
            "margin": null,
            "max_height": null,
            "max_width": null,
            "min_height": null,
            "min_width": null,
            "object_fit": null,
            "object_position": null,
            "order": null,
            "overflow": null,
            "overflow_x": null,
            "overflow_y": null,
            "padding": null,
            "right": null,
            "top": null,
            "visibility": null,
            "width": null
          }
        },
        "104ec26e0a734cf48ea0c2213963d5e1": {
          "model_module": "@jupyter-widgets/controls",
          "model_module_version": "1.5.0",
          "model_name": "HTMLModel",
          "state": {
            "_dom_classes": [],
            "_model_module": "@jupyter-widgets/controls",
            "_model_module_version": "1.5.0",
            "_model_name": "HTMLModel",
            "_view_count": null,
            "_view_module": "@jupyter-widgets/controls",
            "_view_module_version": "1.5.0",
            "_view_name": "HTMLView",
            "description": "",
            "description_tooltip": null,
            "layout": "IPY_MODEL_7c751fe50c74475a9cc9a3b1f41bc36d",
            "placeholder": "​",
            "style": "IPY_MODEL_b097b05e30a7453aae264053f6a9f8b0",
            "value": "Downloading data: 100%"
          }
        },
        "107e2d648110447faed852fb819620f5": {
          "model_module": "@jupyter-widgets/controls",
          "model_module_version": "1.5.0",
          "model_name": "HTMLModel",
          "state": {
            "_dom_classes": [],
            "_model_module": "@jupyter-widgets/controls",
            "_model_module_version": "1.5.0",
            "_model_name": "HTMLModel",
            "_view_count": null,
            "_view_module": "@jupyter-widgets/controls",
            "_view_module_version": "1.5.0",
            "_view_name": "HTMLView",
            "description": "",
            "description_tooltip": null,
            "layout": "IPY_MODEL_7e53faa52cad4ad4a8e3a326b311521d",
            "placeholder": "​",
            "style": "IPY_MODEL_0bb00df241ac453985d26cf9b4099c1b",
            "value": " 9.25k/9.25k [00:00&lt;00:00, 350kB/s]"
          }
        },
        "124a6bec1c964d9dbb7c385cdb20620e": {
          "model_module": "@jupyter-widgets/controls",
          "model_module_version": "1.5.0",
          "model_name": "HTMLModel",
          "state": {
            "_dom_classes": [],
            "_model_module": "@jupyter-widgets/controls",
            "_model_module_version": "1.5.0",
            "_model_name": "HTMLModel",
            "_view_count": null,
            "_view_module": "@jupyter-widgets/controls",
            "_view_module_version": "1.5.0",
            "_view_name": "HTMLView",
            "description": "",
            "description_tooltip": null,
            "layout": "IPY_MODEL_e44a0bfd983e433e8f8109bf19679ac4",
            "placeholder": "​",
            "style": "IPY_MODEL_d5ce6624c4054583af6c82b61429f13f",
            "value": " 6.84k/6.84k [00:00&lt;00:00, 276kB/s]"
          }
        },
        "13b1afbff4dc4a3ea543a032dec57f7d": {
          "model_module": "@jupyter-widgets/controls",
          "model_module_version": "1.5.0",
          "model_name": "DescriptionStyleModel",
          "state": {
            "_model_module": "@jupyter-widgets/controls",
            "_model_module_version": "1.5.0",
            "_model_name": "DescriptionStyleModel",
            "_view_count": null,
            "_view_module": "@jupyter-widgets/base",
            "_view_module_version": "1.2.0",
            "_view_name": "StyleView",
            "description_width": ""
          }
        },
        "151a10d9cdba45f0ba90f4b775026a31": {
          "model_module": "@jupyter-widgets/controls",
          "model_module_version": "1.5.0",
          "model_name": "HTMLModel",
          "state": {
            "_dom_classes": [],
            "_model_module": "@jupyter-widgets/controls",
            "_model_module_version": "1.5.0",
            "_model_name": "HTMLModel",
            "_view_count": null,
            "_view_module": "@jupyter-widgets/controls",
            "_view_module_version": "1.5.0",
            "_view_name": "HTMLView",
            "description": "",
            "description_tooltip": null,
            "layout": "IPY_MODEL_c9c0754651224e9096ad9e14348b472a",
            "placeholder": "​",
            "style": "IPY_MODEL_e44f289aeace4e1fabf65d8a3fe6f117",
            "value": "Downloading metadata: 100%"
          }
        },
        "17b78f6e29e84346ae673b497223d932": {
          "model_module": "@jupyter-widgets/base",
          "model_module_version": "1.2.0",
          "model_name": "LayoutModel",
          "state": {
            "_model_module": "@jupyter-widgets/base",
            "_model_module_version": "1.2.0",
            "_model_name": "LayoutModel",
            "_view_count": null,
            "_view_module": "@jupyter-widgets/base",
            "_view_module_version": "1.2.0",
            "_view_name": "LayoutView",
            "align_content": null,
            "align_items": null,
            "align_self": null,
            "border": null,
            "bottom": null,
            "display": null,
            "flex": null,
            "flex_flow": null,
            "grid_area": null,
            "grid_auto_columns": null,
            "grid_auto_flow": null,
            "grid_auto_rows": null,
            "grid_column": null,
            "grid_gap": null,
            "grid_row": null,
            "grid_template_areas": null,
            "grid_template_columns": null,
            "grid_template_rows": null,
            "height": null,
            "justify_content": null,
            "justify_items": null,
            "left": null,
            "margin": null,
            "max_height": null,
            "max_width": null,
            "min_height": null,
            "min_width": null,
            "object_fit": null,
            "object_position": null,
            "order": null,
            "overflow": null,
            "overflow_x": null,
            "overflow_y": null,
            "padding": null,
            "right": null,
            "top": null,
            "visibility": null,
            "width": null
          }
        },
        "17f0d08df9ec4a6692f44ee5b0a280c6": {
          "model_module": "@jupyter-widgets/controls",
          "model_module_version": "1.5.0",
          "model_name": "DescriptionStyleModel",
          "state": {
            "_model_module": "@jupyter-widgets/controls",
            "_model_module_version": "1.5.0",
            "_model_name": "DescriptionStyleModel",
            "_view_count": null,
            "_view_module": "@jupyter-widgets/base",
            "_view_module_version": "1.2.0",
            "_view_name": "StyleView",
            "description_width": ""
          }
        },
        "1ac8cea59cd84764814dada44f07e4c2": {
          "model_module": "@jupyter-widgets/base",
          "model_module_version": "1.2.0",
          "model_name": "LayoutModel",
          "state": {
            "_model_module": "@jupyter-widgets/base",
            "_model_module_version": "1.2.0",
            "_model_name": "LayoutModel",
            "_view_count": null,
            "_view_module": "@jupyter-widgets/base",
            "_view_module_version": "1.2.0",
            "_view_name": "LayoutView",
            "align_content": null,
            "align_items": null,
            "align_self": null,
            "border": null,
            "bottom": null,
            "display": null,
            "flex": null,
            "flex_flow": null,
            "grid_area": null,
            "grid_auto_columns": null,
            "grid_auto_flow": null,
            "grid_auto_rows": null,
            "grid_column": null,
            "grid_gap": null,
            "grid_row": null,
            "grid_template_areas": null,
            "grid_template_columns": null,
            "grid_template_rows": null,
            "height": null,
            "justify_content": null,
            "justify_items": null,
            "left": null,
            "margin": null,
            "max_height": null,
            "max_width": null,
            "min_height": null,
            "min_width": null,
            "object_fit": null,
            "object_position": null,
            "order": null,
            "overflow": null,
            "overflow_x": null,
            "overflow_y": null,
            "padding": null,
            "right": null,
            "top": null,
            "visibility": null,
            "width": null
          }
        },
        "22be28fa6a554d999019282d96834a54": {
          "model_module": "@jupyter-widgets/controls",
          "model_module_version": "1.5.0",
          "model_name": "HBoxModel",
          "state": {
            "_dom_classes": [],
            "_model_module": "@jupyter-widgets/controls",
            "_model_module_version": "1.5.0",
            "_model_name": "HBoxModel",
            "_view_count": null,
            "_view_module": "@jupyter-widgets/controls",
            "_view_module_version": "1.5.0",
            "_view_name": "HBoxView",
            "box_style": "",
            "children": [
              "IPY_MODEL_feaf0ab28d44404cb3a8da9f5d19c0aa",
              "IPY_MODEL_9f832b78c84849e9add8a41f85c4fb39",
              "IPY_MODEL_017662e7d2484883b0f62daa7a2e56ce"
            ],
            "layout": "IPY_MODEL_d5d02981a4f94311bf2cce51f24c76f8"
          }
        },
        "2814dee4af5a4d6480c4fabf1ca4a061": {
          "model_module": "@jupyter-widgets/controls",
          "model_module_version": "1.5.0",
          "model_name": "DescriptionStyleModel",
          "state": {
            "_model_module": "@jupyter-widgets/controls",
            "_model_module_version": "1.5.0",
            "_model_name": "DescriptionStyleModel",
            "_view_count": null,
            "_view_module": "@jupyter-widgets/base",
            "_view_module_version": "1.2.0",
            "_view_name": "StyleView",
            "description_width": ""
          }
        },
        "2db980972b96498a97b540d131630345": {
          "model_module": "@jupyter-widgets/base",
          "model_module_version": "1.2.0",
          "model_name": "LayoutModel",
          "state": {
            "_model_module": "@jupyter-widgets/base",
            "_model_module_version": "1.2.0",
            "_model_name": "LayoutModel",
            "_view_count": null,
            "_view_module": "@jupyter-widgets/base",
            "_view_module_version": "1.2.0",
            "_view_name": "LayoutView",
            "align_content": null,
            "align_items": null,
            "align_self": null,
            "border": null,
            "bottom": null,
            "display": null,
            "flex": null,
            "flex_flow": null,
            "grid_area": null,
            "grid_auto_columns": null,
            "grid_auto_flow": null,
            "grid_auto_rows": null,
            "grid_column": null,
            "grid_gap": null,
            "grid_row": null,
            "grid_template_areas": null,
            "grid_template_columns": null,
            "grid_template_rows": null,
            "height": null,
            "justify_content": null,
            "justify_items": null,
            "left": null,
            "margin": null,
            "max_height": null,
            "max_width": null,
            "min_height": null,
            "min_width": null,
            "object_fit": null,
            "object_position": null,
            "order": null,
            "overflow": null,
            "overflow_x": null,
            "overflow_y": null,
            "padding": null,
            "right": null,
            "top": null,
            "visibility": "hidden",
            "width": null
          }
        },
        "2dfba98643ff4634ad1377128e49cf6a": {
          "model_module": "@jupyter-widgets/controls",
          "model_module_version": "1.5.0",
          "model_name": "HBoxModel",
          "state": {
            "_dom_classes": [],
            "_model_module": "@jupyter-widgets/controls",
            "_model_module_version": "1.5.0",
            "_model_name": "HBoxModel",
            "_view_count": null,
            "_view_module": "@jupyter-widgets/controls",
            "_view_module_version": "1.5.0",
            "_view_name": "HBoxView",
            "box_style": "",
            "children": [
              "IPY_MODEL_e933f23155f1447db29d300c74f0f6c2",
              "IPY_MODEL_351669fdef214276b5f5670780154855",
              "IPY_MODEL_4340c05dfa444276b34817b6dc67028c"
            ],
            "layout": "IPY_MODEL_3ee6793171414f2ca59b5799d21dce35"
          }
        },
        "2fe49a9bcba34436b2920339aa25c661": {
          "model_module": "@jupyter-widgets/controls",
          "model_module_version": "1.5.0",
          "model_name": "HTMLModel",
          "state": {
            "_dom_classes": [],
            "_model_module": "@jupyter-widgets/controls",
            "_model_module_version": "1.5.0",
            "_model_name": "HTMLModel",
            "_view_count": null,
            "_view_module": "@jupyter-widgets/controls",
            "_view_module_version": "1.5.0",
            "_view_name": "HTMLView",
            "description": "",
            "description_tooltip": null,
            "layout": "IPY_MODEL_c317501d809d4ce8bd37ab692fca04f4",
            "placeholder": "​",
            "style": "IPY_MODEL_857ee60fa3a440a9ad00bf44ff45c290",
            "value": " 3/3 [00:00&lt;00:00, 47.03it/s]"
          }
        },
        "34ffd83dda4843e08a92803ad0cf9f29": {
          "model_module": "@jupyter-widgets/controls",
          "model_module_version": "1.5.0",
          "model_name": "ProgressStyleModel",
          "state": {
            "_model_module": "@jupyter-widgets/controls",
            "_model_module_version": "1.5.0",
            "_model_name": "ProgressStyleModel",
            "_view_count": null,
            "_view_module": "@jupyter-widgets/base",
            "_view_module_version": "1.2.0",
            "_view_name": "StyleView",
            "bar_color": null,
            "description_width": ""
          }
        },
        "351669fdef214276b5f5670780154855": {
          "model_module": "@jupyter-widgets/controls",
          "model_module_version": "1.5.0",
          "model_name": "FloatProgressModel",
          "state": {
            "_dom_classes": [],
            "_model_module": "@jupyter-widgets/controls",
            "_model_module_version": "1.5.0",
            "_model_name": "FloatProgressModel",
            "_view_count": null,
            "_view_module": "@jupyter-widgets/controls",
            "_view_module_version": "1.5.0",
            "_view_name": "ProgressView",
            "bar_style": "",
            "description": "",
            "description_tooltip": null,
            "layout": "IPY_MODEL_6af4454a166343458450f417cf8e6f7f",
            "max": 4358,
            "min": 0,
            "orientation": "horizontal",
            "style": "IPY_MODEL_5b15d1cea3794cc7b1a6fcb73731dec2",
            "value": 4358
          }
        },
        "360a044384514e93b15b985e16a3af93": {
          "model_module": "@jupyter-widgets/base",
          "model_module_version": "1.2.0",
          "model_name": "LayoutModel",
          "state": {
            "_model_module": "@jupyter-widgets/base",
            "_model_module_version": "1.2.0",
            "_model_name": "LayoutModel",
            "_view_count": null,
            "_view_module": "@jupyter-widgets/base",
            "_view_module_version": "1.2.0",
            "_view_name": "LayoutView",
            "align_content": null,
            "align_items": null,
            "align_self": null,
            "border": null,
            "bottom": null,
            "display": null,
            "flex": null,
            "flex_flow": null,
            "grid_area": null,
            "grid_auto_columns": null,
            "grid_auto_flow": null,
            "grid_auto_rows": null,
            "grid_column": null,
            "grid_gap": null,
            "grid_row": null,
            "grid_template_areas": null,
            "grid_template_columns": null,
            "grid_template_rows": null,
            "height": null,
            "justify_content": null,
            "justify_items": null,
            "left": null,
            "margin": null,
            "max_height": null,
            "max_width": null,
            "min_height": null,
            "min_width": null,
            "object_fit": null,
            "object_position": null,
            "order": null,
            "overflow": null,
            "overflow_x": null,
            "overflow_y": null,
            "padding": null,
            "right": null,
            "top": null,
            "visibility": null,
            "width": null
          }
        },
        "3d79b26f13454efbac119a486dfc4607": {
          "model_module": "@jupyter-widgets/controls",
          "model_module_version": "1.5.0",
          "model_name": "HBoxModel",
          "state": {
            "_dom_classes": [],
            "_model_module": "@jupyter-widgets/controls",
            "_model_module_version": "1.5.0",
            "_model_name": "HBoxModel",
            "_view_count": null,
            "_view_module": "@jupyter-widgets/controls",
            "_view_module_version": "1.5.0",
            "_view_name": "HBoxView",
            "box_style": "",
            "children": [
              "IPY_MODEL_4ccb410805684e36abbb379b1ef86f70",
              "IPY_MODEL_d982b74b8c6e49b58d1aa6e842359502",
              "IPY_MODEL_58e164e7068c4321af3dd4d54d0e71d7"
            ],
            "layout": "IPY_MODEL_9309f2b39ba5470fb33a8a283d715893"
          }
        },
        "3da9e2b9a4ce4ea8ae4455bc872cc4a1": {
          "model_module": "@jupyter-widgets/controls",
          "model_module_version": "1.5.0",
          "model_name": "HBoxModel",
          "state": {
            "_dom_classes": [],
            "_model_module": "@jupyter-widgets/controls",
            "_model_module_version": "1.5.0",
            "_model_name": "HBoxModel",
            "_view_count": null,
            "_view_module": "@jupyter-widgets/controls",
            "_view_module_version": "1.5.0",
            "_view_name": "HBoxView",
            "box_style": "",
            "children": [
              "IPY_MODEL_0b8593f161704322be109f19f2e21cbf",
              "IPY_MODEL_f3a8e1d2b02643069a1e0f6e4ab6d2df",
              "IPY_MODEL_05b3108f02f04d899d809c7f1a64bbe7"
            ],
            "layout": "IPY_MODEL_2db980972b96498a97b540d131630345"
          }
        },
        "3ee6793171414f2ca59b5799d21dce35": {
          "model_module": "@jupyter-widgets/base",
          "model_module_version": "1.2.0",
          "model_name": "LayoutModel",
          "state": {
            "_model_module": "@jupyter-widgets/base",
            "_model_module_version": "1.2.0",
            "_model_name": "LayoutModel",
            "_view_count": null,
            "_view_module": "@jupyter-widgets/base",
            "_view_module_version": "1.2.0",
            "_view_name": "LayoutView",
            "align_content": null,
            "align_items": null,
            "align_self": null,
            "border": null,
            "bottom": null,
            "display": null,
            "flex": null,
            "flex_flow": null,
            "grid_area": null,
            "grid_auto_columns": null,
            "grid_auto_flow": null,
            "grid_auto_rows": null,
            "grid_column": null,
            "grid_gap": null,
            "grid_row": null,
            "grid_template_areas": null,
            "grid_template_columns": null,
            "grid_template_rows": null,
            "height": null,
            "justify_content": null,
            "justify_items": null,
            "left": null,
            "margin": null,
            "max_height": null,
            "max_width": null,
            "min_height": null,
            "min_width": null,
            "object_fit": null,
            "object_position": null,
            "order": null,
            "overflow": null,
            "overflow_x": null,
            "overflow_y": null,
            "padding": null,
            "right": null,
            "top": null,
            "visibility": "hidden",
            "width": null
          }
        },
        "40d1a2f835d24af1b83c47ce70d51cbb": {
          "model_module": "@jupyter-widgets/controls",
          "model_module_version": "1.5.0",
          "model_name": "ProgressStyleModel",
          "state": {
            "_model_module": "@jupyter-widgets/controls",
            "_model_module_version": "1.5.0",
            "_model_name": "ProgressStyleModel",
            "_view_count": null,
            "_view_module": "@jupyter-widgets/base",
            "_view_module_version": "1.2.0",
            "_view_name": "StyleView",
            "bar_color": null,
            "description_width": ""
          }
        },
        "4340c05dfa444276b34817b6dc67028c": {
          "model_module": "@jupyter-widgets/controls",
          "model_module_version": "1.5.0",
          "model_name": "HTMLModel",
          "state": {
            "_dom_classes": [],
            "_model_module": "@jupyter-widgets/controls",
            "_model_module_version": "1.5.0",
            "_model_name": "HTMLModel",
            "_view_count": null,
            "_view_module": "@jupyter-widgets/controls",
            "_view_module_version": "1.5.0",
            "_view_name": "HTMLView",
            "description": "",
            "description_tooltip": null,
            "layout": "IPY_MODEL_f83088b73358419aac82c4d1f22e9a96",
            "placeholder": "​",
            "style": "IPY_MODEL_c9e2bf8130c54c6f8c713942add45a03",
            "value": " 1383/4358 [00:00&lt;00:00, 8733.57 examples/s]"
          }
        },
        "48d0cf06a2514117901fd36a31f26fd2": {
          "model_module": "@jupyter-widgets/controls",
          "model_module_version": "1.5.0",
          "model_name": "ProgressStyleModel",
          "state": {
            "_model_module": "@jupyter-widgets/controls",
            "_model_module_version": "1.5.0",
            "_model_name": "ProgressStyleModel",
            "_view_count": null,
            "_view_module": "@jupyter-widgets/base",
            "_view_module_version": "1.2.0",
            "_view_name": "StyleView",
            "bar_color": null,
            "description_width": ""
          }
        },
        "49e21d111a054a80a7cfce03ac0dc5fa": {
          "model_module": "@jupyter-widgets/base",
          "model_module_version": "1.2.0",
          "model_name": "LayoutModel",
          "state": {
            "_model_module": "@jupyter-widgets/base",
            "_model_module_version": "1.2.0",
            "_model_name": "LayoutModel",
            "_view_count": null,
            "_view_module": "@jupyter-widgets/base",
            "_view_module_version": "1.2.0",
            "_view_name": "LayoutView",
            "align_content": null,
            "align_items": null,
            "align_self": null,
            "border": null,
            "bottom": null,
            "display": null,
            "flex": null,
            "flex_flow": null,
            "grid_area": null,
            "grid_auto_columns": null,
            "grid_auto_flow": null,
            "grid_auto_rows": null,
            "grid_column": null,
            "grid_gap": null,
            "grid_row": null,
            "grid_template_areas": null,
            "grid_template_columns": null,
            "grid_template_rows": null,
            "height": null,
            "justify_content": null,
            "justify_items": null,
            "left": null,
            "margin": null,
            "max_height": null,
            "max_width": null,
            "min_height": null,
            "min_width": null,
            "object_fit": null,
            "object_position": null,
            "order": null,
            "overflow": null,
            "overflow_x": null,
            "overflow_y": null,
            "padding": null,
            "right": null,
            "top": null,
            "visibility": null,
            "width": null
          }
        },
        "4ba96f56a5d7459a9822be1e6feefda9": {
          "model_module": "@jupyter-widgets/controls",
          "model_module_version": "1.5.0",
          "model_name": "HBoxModel",
          "state": {
            "_dom_classes": [],
            "_model_module": "@jupyter-widgets/controls",
            "_model_module_version": "1.5.0",
            "_model_name": "HBoxModel",
            "_view_count": null,
            "_view_module": "@jupyter-widgets/controls",
            "_view_module_version": "1.5.0",
            "_view_name": "HBoxView",
            "box_style": "",
            "children": [
              "IPY_MODEL_151a10d9cdba45f0ba90f4b775026a31",
              "IPY_MODEL_cc5c12dbe6094c51bd2a4b6b769bcb26",
              "IPY_MODEL_124a6bec1c964d9dbb7c385cdb20620e"
            ],
            "layout": "IPY_MODEL_e96b3a50cd7c46b39ce8bffe58630ab8"
          }
        },
        "4ccb410805684e36abbb379b1ef86f70": {
          "model_module": "@jupyter-widgets/controls",
          "model_module_version": "1.5.0",
          "model_name": "HTMLModel",
          "state": {
            "_dom_classes": [],
            "_model_module": "@jupyter-widgets/controls",
            "_model_module_version": "1.5.0",
            "_model_name": "HTMLModel",
            "_view_count": null,
            "_view_module": "@jupyter-widgets/controls",
            "_view_module_version": "1.5.0",
            "_view_name": "HTMLView",
            "description": "",
            "description_tooltip": null,
            "layout": "IPY_MODEL_9a316b9ea6a8454b81863fa046bced24",
            "placeholder": "​",
            "style": "IPY_MODEL_8fb5d5c8f57d4fc396ed1e5c58afd90c",
            "value": "Generating validation split: 100%"
          }
        },
        "5021f1158de4478b948a6e504876d28a": {
          "model_module": "@jupyter-widgets/controls",
          "model_module_version": "1.5.0",
          "model_name": "HTMLModel",
          "state": {
            "_dom_classes": [],
            "_model_module": "@jupyter-widgets/controls",
            "_model_module_version": "1.5.0",
            "_model_name": "HTMLModel",
            "_view_count": null,
            "_view_module": "@jupyter-widgets/controls",
            "_view_module_version": "1.5.0",
            "_view_name": "HTMLView",
            "description": "",
            "description_tooltip": null,
            "layout": "IPY_MODEL_0f8e99591aff453dad141de6fd53a792",
            "placeholder": "​",
            "style": "IPY_MODEL_86d62a9041164f5786acf045f9d85738",
            "value": "100%"
          }
        },
        "58e164e7068c4321af3dd4d54d0e71d7": {
          "model_module": "@jupyter-widgets/controls",
          "model_module_version": "1.5.0",
          "model_name": "HTMLModel",
          "state": {
            "_dom_classes": [],
            "_model_module": "@jupyter-widgets/controls",
            "_model_module_version": "1.5.0",
            "_model_name": "HTMLModel",
            "_view_count": null,
            "_view_module": "@jupyter-widgets/controls",
            "_view_module_version": "1.5.0",
            "_view_name": "HTMLView",
            "description": "",
            "description_tooltip": null,
            "layout": "IPY_MODEL_e6f8682f66954517bff929f2989d028f",
            "placeholder": "​",
            "style": "IPY_MODEL_17f0d08df9ec4a6692f44ee5b0a280c6",
            "value": " 3760/3760 [00:00&lt;00:00, 30095.27 examples/s]"
          }
        },
        "5b15d1cea3794cc7b1a6fcb73731dec2": {
          "model_module": "@jupyter-widgets/controls",
          "model_module_version": "1.5.0",
          "model_name": "ProgressStyleModel",
          "state": {
            "_model_module": "@jupyter-widgets/controls",
            "_model_module_version": "1.5.0",
            "_model_name": "ProgressStyleModel",
            "_view_count": null,
            "_view_module": "@jupyter-widgets/base",
            "_view_module_version": "1.2.0",
            "_view_name": "StyleView",
            "bar_color": null,
            "description_width": ""
          }
        },
        "64bd2b13fd3a4e82bdc86bca74ce4e40": {
          "model_module": "@jupyter-widgets/base",
          "model_module_version": "1.2.0",
          "model_name": "LayoutModel",
          "state": {
            "_model_module": "@jupyter-widgets/base",
            "_model_module_version": "1.2.0",
            "_model_name": "LayoutModel",
            "_view_count": null,
            "_view_module": "@jupyter-widgets/base",
            "_view_module_version": "1.2.0",
            "_view_name": "LayoutView",
            "align_content": null,
            "align_items": null,
            "align_self": null,
            "border": null,
            "bottom": null,
            "display": null,
            "flex": null,
            "flex_flow": null,
            "grid_area": null,
            "grid_auto_columns": null,
            "grid_auto_flow": null,
            "grid_auto_rows": null,
            "grid_column": null,
            "grid_gap": null,
            "grid_row": null,
            "grid_template_areas": null,
            "grid_template_columns": null,
            "grid_template_rows": null,
            "height": null,
            "justify_content": null,
            "justify_items": null,
            "left": null,
            "margin": null,
            "max_height": null,
            "max_width": null,
            "min_height": null,
            "min_width": null,
            "object_fit": null,
            "object_position": null,
            "order": null,
            "overflow": null,
            "overflow_x": null,
            "overflow_y": null,
            "padding": null,
            "right": null,
            "top": null,
            "visibility": null,
            "width": null
          }
        },
        "67fb8cac8f864322b804b8a69647de1e": {
          "model_module": "@jupyter-widgets/base",
          "model_module_version": "1.2.0",
          "model_name": "LayoutModel",
          "state": {
            "_model_module": "@jupyter-widgets/base",
            "_model_module_version": "1.2.0",
            "_model_name": "LayoutModel",
            "_view_count": null,
            "_view_module": "@jupyter-widgets/base",
            "_view_module_version": "1.2.0",
            "_view_name": "LayoutView",
            "align_content": null,
            "align_items": null,
            "align_self": null,
            "border": null,
            "bottom": null,
            "display": null,
            "flex": null,
            "flex_flow": null,
            "grid_area": null,
            "grid_auto_columns": null,
            "grid_auto_flow": null,
            "grid_auto_rows": null,
            "grid_column": null,
            "grid_gap": null,
            "grid_row": null,
            "grid_template_areas": null,
            "grid_template_columns": null,
            "grid_template_rows": null,
            "height": null,
            "justify_content": null,
            "justify_items": null,
            "left": null,
            "margin": null,
            "max_height": null,
            "max_width": null,
            "min_height": null,
            "min_width": null,
            "object_fit": null,
            "object_position": null,
            "order": null,
            "overflow": null,
            "overflow_x": null,
            "overflow_y": null,
            "padding": null,
            "right": null,
            "top": null,
            "visibility": null,
            "width": null
          }
        },
        "6af4454a166343458450f417cf8e6f7f": {
          "model_module": "@jupyter-widgets/base",
          "model_module_version": "1.2.0",
          "model_name": "LayoutModel",
          "state": {
            "_model_module": "@jupyter-widgets/base",
            "_model_module_version": "1.2.0",
            "_model_name": "LayoutModel",
            "_view_count": null,
            "_view_module": "@jupyter-widgets/base",
            "_view_module_version": "1.2.0",
            "_view_name": "LayoutView",
            "align_content": null,
            "align_items": null,
            "align_self": null,
            "border": null,
            "bottom": null,
            "display": null,
            "flex": null,
            "flex_flow": null,
            "grid_area": null,
            "grid_auto_columns": null,
            "grid_auto_flow": null,
            "grid_auto_rows": null,
            "grid_column": null,
            "grid_gap": null,
            "grid_row": null,
            "grid_template_areas": null,
            "grid_template_columns": null,
            "grid_template_rows": null,
            "height": null,
            "justify_content": null,
            "justify_items": null,
            "left": null,
            "margin": null,
            "max_height": null,
            "max_width": null,
            "min_height": null,
            "min_width": null,
            "object_fit": null,
            "object_position": null,
            "order": null,
            "overflow": null,
            "overflow_x": null,
            "overflow_y": null,
            "padding": null,
            "right": null,
            "top": null,
            "visibility": null,
            "width": null
          }
        },
        "795561dabb20416ab8c3266c197a4113": {
          "model_module": "@jupyter-widgets/base",
          "model_module_version": "1.2.0",
          "model_name": "LayoutModel",
          "state": {
            "_model_module": "@jupyter-widgets/base",
            "_model_module_version": "1.2.0",
            "_model_name": "LayoutModel",
            "_view_count": null,
            "_view_module": "@jupyter-widgets/base",
            "_view_module_version": "1.2.0",
            "_view_name": "LayoutView",
            "align_content": null,
            "align_items": null,
            "align_self": null,
            "border": null,
            "bottom": null,
            "display": null,
            "flex": null,
            "flex_flow": null,
            "grid_area": null,
            "grid_auto_columns": null,
            "grid_auto_flow": null,
            "grid_auto_rows": null,
            "grid_column": null,
            "grid_gap": null,
            "grid_row": null,
            "grid_template_areas": null,
            "grid_template_columns": null,
            "grid_template_rows": null,
            "height": null,
            "justify_content": null,
            "justify_items": null,
            "left": null,
            "margin": null,
            "max_height": null,
            "max_width": null,
            "min_height": null,
            "min_width": null,
            "object_fit": null,
            "object_position": null,
            "order": null,
            "overflow": null,
            "overflow_x": null,
            "overflow_y": null,
            "padding": null,
            "right": null,
            "top": null,
            "visibility": null,
            "width": null
          }
        },
        "7c08176a43804354b6d772f00ccf1456": {
          "model_module": "@jupyter-widgets/controls",
          "model_module_version": "1.5.0",
          "model_name": "ProgressStyleModel",
          "state": {
            "_model_module": "@jupyter-widgets/controls",
            "_model_module_version": "1.5.0",
            "_model_name": "ProgressStyleModel",
            "_view_count": null,
            "_view_module": "@jupyter-widgets/base",
            "_view_module_version": "1.2.0",
            "_view_name": "StyleView",
            "bar_color": null,
            "description_width": ""
          }
        },
        "7c751fe50c74475a9cc9a3b1f41bc36d": {
          "model_module": "@jupyter-widgets/base",
          "model_module_version": "1.2.0",
          "model_name": "LayoutModel",
          "state": {
            "_model_module": "@jupyter-widgets/base",
            "_model_module_version": "1.2.0",
            "_model_name": "LayoutModel",
            "_view_count": null,
            "_view_module": "@jupyter-widgets/base",
            "_view_module_version": "1.2.0",
            "_view_name": "LayoutView",
            "align_content": null,
            "align_items": null,
            "align_self": null,
            "border": null,
            "bottom": null,
            "display": null,
            "flex": null,
            "flex_flow": null,
            "grid_area": null,
            "grid_auto_columns": null,
            "grid_auto_flow": null,
            "grid_auto_rows": null,
            "grid_column": null,
            "grid_gap": null,
            "grid_row": null,
            "grid_template_areas": null,
            "grid_template_columns": null,
            "grid_template_rows": null,
            "height": null,
            "justify_content": null,
            "justify_items": null,
            "left": null,
            "margin": null,
            "max_height": null,
            "max_width": null,
            "min_height": null,
            "min_width": null,
            "object_fit": null,
            "object_position": null,
            "order": null,
            "overflow": null,
            "overflow_x": null,
            "overflow_y": null,
            "padding": null,
            "right": null,
            "top": null,
            "visibility": null,
            "width": null
          }
        },
        "7e53faa52cad4ad4a8e3a326b311521d": {
          "model_module": "@jupyter-widgets/base",
          "model_module_version": "1.2.0",
          "model_name": "LayoutModel",
          "state": {
            "_model_module": "@jupyter-widgets/base",
            "_model_module_version": "1.2.0",
            "_model_name": "LayoutModel",
            "_view_count": null,
            "_view_module": "@jupyter-widgets/base",
            "_view_module_version": "1.2.0",
            "_view_name": "LayoutView",
            "align_content": null,
            "align_items": null,
            "align_self": null,
            "border": null,
            "bottom": null,
            "display": null,
            "flex": null,
            "flex_flow": null,
            "grid_area": null,
            "grid_auto_columns": null,
            "grid_auto_flow": null,
            "grid_auto_rows": null,
            "grid_column": null,
            "grid_gap": null,
            "grid_row": null,
            "grid_template_areas": null,
            "grid_template_columns": null,
            "grid_template_rows": null,
            "height": null,
            "justify_content": null,
            "justify_items": null,
            "left": null,
            "margin": null,
            "max_height": null,
            "max_width": null,
            "min_height": null,
            "min_width": null,
            "object_fit": null,
            "object_position": null,
            "order": null,
            "overflow": null,
            "overflow_x": null,
            "overflow_y": null,
            "padding": null,
            "right": null,
            "top": null,
            "visibility": null,
            "width": null
          }
        },
        "80a6eadb31ff418b95a5ac518775a250": {
          "model_module": "@jupyter-widgets/controls",
          "model_module_version": "1.5.0",
          "model_name": "DescriptionStyleModel",
          "state": {
            "_model_module": "@jupyter-widgets/controls",
            "_model_module_version": "1.5.0",
            "_model_name": "DescriptionStyleModel",
            "_view_count": null,
            "_view_module": "@jupyter-widgets/base",
            "_view_module_version": "1.2.0",
            "_view_name": "StyleView",
            "description_width": ""
          }
        },
        "857ee60fa3a440a9ad00bf44ff45c290": {
          "model_module": "@jupyter-widgets/controls",
          "model_module_version": "1.5.0",
          "model_name": "DescriptionStyleModel",
          "state": {
            "_model_module": "@jupyter-widgets/controls",
            "_model_module_version": "1.5.0",
            "_model_name": "DescriptionStyleModel",
            "_view_count": null,
            "_view_module": "@jupyter-widgets/base",
            "_view_module_version": "1.2.0",
            "_view_name": "StyleView",
            "description_width": ""
          }
        },
        "858acdac33404c9ca9a3f9cf5688ea7c": {
          "model_module": "@jupyter-widgets/controls",
          "model_module_version": "1.5.0",
          "model_name": "HBoxModel",
          "state": {
            "_dom_classes": [],
            "_model_module": "@jupyter-widgets/controls",
            "_model_module_version": "1.5.0",
            "_model_name": "HBoxModel",
            "_view_count": null,
            "_view_module": "@jupyter-widgets/controls",
            "_view_module_version": "1.5.0",
            "_view_name": "HBoxView",
            "box_style": "",
            "children": [
              "IPY_MODEL_5021f1158de4478b948a6e504876d28a",
              "IPY_MODEL_99483f53f4914874bac73111b19f2d6c",
              "IPY_MODEL_2fe49a9bcba34436b2920339aa25c661"
            ],
            "layout": "IPY_MODEL_8ef334ed46a14a9c8423beaf8c82eaca"
          }
        },
        "86d62a9041164f5786acf045f9d85738": {
          "model_module": "@jupyter-widgets/controls",
          "model_module_version": "1.5.0",
          "model_name": "DescriptionStyleModel",
          "state": {
            "_model_module": "@jupyter-widgets/controls",
            "_model_module_version": "1.5.0",
            "_model_name": "DescriptionStyleModel",
            "_view_count": null,
            "_view_module": "@jupyter-widgets/base",
            "_view_module_version": "1.2.0",
            "_view_name": "StyleView",
            "description_width": ""
          }
        },
        "892fcfdf4dcb47789d1746bd942053bb": {
          "model_module": "@jupyter-widgets/controls",
          "model_module_version": "1.5.0",
          "model_name": "DescriptionStyleModel",
          "state": {
            "_model_module": "@jupyter-widgets/controls",
            "_model_module_version": "1.5.0",
            "_model_name": "DescriptionStyleModel",
            "_view_count": null,
            "_view_module": "@jupyter-widgets/base",
            "_view_module_version": "1.2.0",
            "_view_name": "StyleView",
            "description_width": ""
          }
        },
        "8a15982e95dd44bba00bc2b5a442812d": {
          "model_module": "@jupyter-widgets/base",
          "model_module_version": "1.2.0",
          "model_name": "LayoutModel",
          "state": {
            "_model_module": "@jupyter-widgets/base",
            "_model_module_version": "1.2.0",
            "_model_name": "LayoutModel",
            "_view_count": null,
            "_view_module": "@jupyter-widgets/base",
            "_view_module_version": "1.2.0",
            "_view_name": "LayoutView",
            "align_content": null,
            "align_items": null,
            "align_self": null,
            "border": null,
            "bottom": null,
            "display": null,
            "flex": null,
            "flex_flow": null,
            "grid_area": null,
            "grid_auto_columns": null,
            "grid_auto_flow": null,
            "grid_auto_rows": null,
            "grid_column": null,
            "grid_gap": null,
            "grid_row": null,
            "grid_template_areas": null,
            "grid_template_columns": null,
            "grid_template_rows": null,
            "height": null,
            "justify_content": null,
            "justify_items": null,
            "left": null,
            "margin": null,
            "max_height": null,
            "max_width": null,
            "min_height": null,
            "min_width": null,
            "object_fit": null,
            "object_position": null,
            "order": null,
            "overflow": null,
            "overflow_x": null,
            "overflow_y": null,
            "padding": null,
            "right": null,
            "top": null,
            "visibility": null,
            "width": null
          }
        },
        "8ef334ed46a14a9c8423beaf8c82eaca": {
          "model_module": "@jupyter-widgets/base",
          "model_module_version": "1.2.0",
          "model_name": "LayoutModel",
          "state": {
            "_model_module": "@jupyter-widgets/base",
            "_model_module_version": "1.2.0",
            "_model_name": "LayoutModel",
            "_view_count": null,
            "_view_module": "@jupyter-widgets/base",
            "_view_module_version": "1.2.0",
            "_view_name": "LayoutView",
            "align_content": null,
            "align_items": null,
            "align_self": null,
            "border": null,
            "bottom": null,
            "display": null,
            "flex": null,
            "flex_flow": null,
            "grid_area": null,
            "grid_auto_columns": null,
            "grid_auto_flow": null,
            "grid_auto_rows": null,
            "grid_column": null,
            "grid_gap": null,
            "grid_row": null,
            "grid_template_areas": null,
            "grid_template_columns": null,
            "grid_template_rows": null,
            "height": null,
            "justify_content": null,
            "justify_items": null,
            "left": null,
            "margin": null,
            "max_height": null,
            "max_width": null,
            "min_height": null,
            "min_width": null,
            "object_fit": null,
            "object_position": null,
            "order": null,
            "overflow": null,
            "overflow_x": null,
            "overflow_y": null,
            "padding": null,
            "right": null,
            "top": null,
            "visibility": null,
            "width": null
          }
        },
        "8fb5d5c8f57d4fc396ed1e5c58afd90c": {
          "model_module": "@jupyter-widgets/controls",
          "model_module_version": "1.5.0",
          "model_name": "DescriptionStyleModel",
          "state": {
            "_model_module": "@jupyter-widgets/controls",
            "_model_module_version": "1.5.0",
            "_model_name": "DescriptionStyleModel",
            "_view_count": null,
            "_view_module": "@jupyter-widgets/base",
            "_view_module_version": "1.2.0",
            "_view_name": "StyleView",
            "description_width": ""
          }
        },
        "91aa754217ef4928a92cb1a874ae1a58": {
          "model_module": "@jupyter-widgets/controls",
          "model_module_version": "1.5.0",
          "model_name": "ProgressStyleModel",
          "state": {
            "_model_module": "@jupyter-widgets/controls",
            "_model_module_version": "1.5.0",
            "_model_name": "ProgressStyleModel",
            "_view_count": null,
            "_view_module": "@jupyter-widgets/base",
            "_view_module_version": "1.2.0",
            "_view_name": "StyleView",
            "bar_color": null,
            "description_width": ""
          }
        },
        "9309f2b39ba5470fb33a8a283d715893": {
          "model_module": "@jupyter-widgets/base",
          "model_module_version": "1.2.0",
          "model_name": "LayoutModel",
          "state": {
            "_model_module": "@jupyter-widgets/base",
            "_model_module_version": "1.2.0",
            "_model_name": "LayoutModel",
            "_view_count": null,
            "_view_module": "@jupyter-widgets/base",
            "_view_module_version": "1.2.0",
            "_view_name": "LayoutView",
            "align_content": null,
            "align_items": null,
            "align_self": null,
            "border": null,
            "bottom": null,
            "display": null,
            "flex": null,
            "flex_flow": null,
            "grid_area": null,
            "grid_auto_columns": null,
            "grid_auto_flow": null,
            "grid_auto_rows": null,
            "grid_column": null,
            "grid_gap": null,
            "grid_row": null,
            "grid_template_areas": null,
            "grid_template_columns": null,
            "grid_template_rows": null,
            "height": null,
            "justify_content": null,
            "justify_items": null,
            "left": null,
            "margin": null,
            "max_height": null,
            "max_width": null,
            "min_height": null,
            "min_width": null,
            "object_fit": null,
            "object_position": null,
            "order": null,
            "overflow": null,
            "overflow_x": null,
            "overflow_y": null,
            "padding": null,
            "right": null,
            "top": null,
            "visibility": "hidden",
            "width": null
          }
        },
        "96a3e9efd4734bc7b5d2c1d2e2baf8c6": {
          "model_module": "@jupyter-widgets/controls",
          "model_module_version": "1.5.0",
          "model_name": "HBoxModel",
          "state": {
            "_dom_classes": [],
            "_model_module": "@jupyter-widgets/controls",
            "_model_module_version": "1.5.0",
            "_model_name": "HBoxModel",
            "_view_count": null,
            "_view_module": "@jupyter-widgets/controls",
            "_view_module_version": "1.5.0",
            "_view_name": "HBoxView",
            "box_style": "",
            "children": [
              "IPY_MODEL_f6c2defcd62b461ca338b61ca082ec9a",
              "IPY_MODEL_f0b69beb35b842a29489111a02cb0eed",
              "IPY_MODEL_107e2d648110447faed852fb819620f5"
            ],
            "layout": "IPY_MODEL_64bd2b13fd3a4e82bdc86bca74ce4e40"
          }
        },
        "99483f53f4914874bac73111b19f2d6c": {
          "model_module": "@jupyter-widgets/controls",
          "model_module_version": "1.5.0",
          "model_name": "FloatProgressModel",
          "state": {
            "_dom_classes": [],
            "_model_module": "@jupyter-widgets/controls",
            "_model_module_version": "1.5.0",
            "_model_name": "FloatProgressModel",
            "_view_count": null,
            "_view_module": "@jupyter-widgets/controls",
            "_view_module_version": "1.5.0",
            "_view_name": "ProgressView",
            "bar_style": "success",
            "description": "",
            "description_tooltip": null,
            "layout": "IPY_MODEL_ae0342a84747481790dfce2a431fd66e",
            "max": 3,
            "min": 0,
            "orientation": "horizontal",
            "style": "IPY_MODEL_a45baec65b9f4913a78e5d2d544f874b",
            "value": 3
          }
        },
        "9a316b9ea6a8454b81863fa046bced24": {
          "model_module": "@jupyter-widgets/base",
          "model_module_version": "1.2.0",
          "model_name": "LayoutModel",
          "state": {
            "_model_module": "@jupyter-widgets/base",
            "_model_module_version": "1.2.0",
            "_model_name": "LayoutModel",
            "_view_count": null,
            "_view_module": "@jupyter-widgets/base",
            "_view_module_version": "1.2.0",
            "_view_name": "LayoutView",
            "align_content": null,
            "align_items": null,
            "align_self": null,
            "border": null,
            "bottom": null,
            "display": null,
            "flex": null,
            "flex_flow": null,
            "grid_area": null,
            "grid_auto_columns": null,
            "grid_auto_flow": null,
            "grid_auto_rows": null,
            "grid_column": null,
            "grid_gap": null,
            "grid_row": null,
            "grid_template_areas": null,
            "grid_template_columns": null,
            "grid_template_rows": null,
            "height": null,
            "justify_content": null,
            "justify_items": null,
            "left": null,
            "margin": null,
            "max_height": null,
            "max_width": null,
            "min_height": null,
            "min_width": null,
            "object_fit": null,
            "object_position": null,
            "order": null,
            "overflow": null,
            "overflow_x": null,
            "overflow_y": null,
            "padding": null,
            "right": null,
            "top": null,
            "visibility": null,
            "width": null
          }
        },
        "9f832b78c84849e9add8a41f85c4fb39": {
          "model_module": "@jupyter-widgets/controls",
          "model_module_version": "1.5.0",
          "model_name": "FloatProgressModel",
          "state": {
            "_dom_classes": [],
            "_model_module": "@jupyter-widgets/controls",
            "_model_module_version": "1.5.0",
            "_model_name": "FloatProgressModel",
            "_view_count": null,
            "_view_module": "@jupyter-widgets/controls",
            "_view_module_version": "1.5.0",
            "_view_name": "ProgressView",
            "bar_style": "success",
            "description": "",
            "description_tooltip": null,
            "layout": "IPY_MODEL_360a044384514e93b15b985e16a3af93",
            "max": 8482,
            "min": 0,
            "orientation": "horizontal",
            "style": "IPY_MODEL_40d1a2f835d24af1b83c47ce70d51cbb",
            "value": 8482
          }
        },
        "a2b1d48686bf4591a214bef38cea758d": {
          "model_module": "@jupyter-widgets/base",
          "model_module_version": "1.2.0",
          "model_name": "LayoutModel",
          "state": {
            "_model_module": "@jupyter-widgets/base",
            "_model_module_version": "1.2.0",
            "_model_name": "LayoutModel",
            "_view_count": null,
            "_view_module": "@jupyter-widgets/base",
            "_view_module_version": "1.2.0",
            "_view_name": "LayoutView",
            "align_content": null,
            "align_items": null,
            "align_self": null,
            "border": null,
            "bottom": null,
            "display": null,
            "flex": null,
            "flex_flow": null,
            "grid_area": null,
            "grid_auto_columns": null,
            "grid_auto_flow": null,
            "grid_auto_rows": null,
            "grid_column": null,
            "grid_gap": null,
            "grid_row": null,
            "grid_template_areas": null,
            "grid_template_columns": null,
            "grid_template_rows": null,
            "height": null,
            "justify_content": null,
            "justify_items": null,
            "left": null,
            "margin": null,
            "max_height": null,
            "max_width": null,
            "min_height": null,
            "min_width": null,
            "object_fit": null,
            "object_position": null,
            "order": null,
            "overflow": null,
            "overflow_x": null,
            "overflow_y": null,
            "padding": null,
            "right": null,
            "top": null,
            "visibility": null,
            "width": null
          }
        },
        "a45baec65b9f4913a78e5d2d544f874b": {
          "model_module": "@jupyter-widgets/controls",
          "model_module_version": "1.5.0",
          "model_name": "ProgressStyleModel",
          "state": {
            "_model_module": "@jupyter-widgets/controls",
            "_model_module_version": "1.5.0",
            "_model_name": "ProgressStyleModel",
            "_view_count": null,
            "_view_module": "@jupyter-widgets/base",
            "_view_module_version": "1.2.0",
            "_view_name": "StyleView",
            "bar_color": null,
            "description_width": ""
          }
        },
        "add1714da32d445a9b9160a13ed6e05e": {
          "model_module": "@jupyter-widgets/base",
          "model_module_version": "1.2.0",
          "model_name": "LayoutModel",
          "state": {
            "_model_module": "@jupyter-widgets/base",
            "_model_module_version": "1.2.0",
            "_model_name": "LayoutModel",
            "_view_count": null,
            "_view_module": "@jupyter-widgets/base",
            "_view_module_version": "1.2.0",
            "_view_name": "LayoutView",
            "align_content": null,
            "align_items": null,
            "align_self": null,
            "border": null,
            "bottom": null,
            "display": null,
            "flex": null,
            "flex_flow": null,
            "grid_area": null,
            "grid_auto_columns": null,
            "grid_auto_flow": null,
            "grid_auto_rows": null,
            "grid_column": null,
            "grid_gap": null,
            "grid_row": null,
            "grid_template_areas": null,
            "grid_template_columns": null,
            "grid_template_rows": null,
            "height": null,
            "justify_content": null,
            "justify_items": null,
            "left": null,
            "margin": null,
            "max_height": null,
            "max_width": null,
            "min_height": null,
            "min_width": null,
            "object_fit": null,
            "object_position": null,
            "order": null,
            "overflow": null,
            "overflow_x": null,
            "overflow_y": null,
            "padding": null,
            "right": null,
            "top": null,
            "visibility": null,
            "width": null
          }
        },
        "ae0342a84747481790dfce2a431fd66e": {
          "model_module": "@jupyter-widgets/base",
          "model_module_version": "1.2.0",
          "model_name": "LayoutModel",
          "state": {
            "_model_module": "@jupyter-widgets/base",
            "_model_module_version": "1.2.0",
            "_model_name": "LayoutModel",
            "_view_count": null,
            "_view_module": "@jupyter-widgets/base",
            "_view_module_version": "1.2.0",
            "_view_name": "LayoutView",
            "align_content": null,
            "align_items": null,
            "align_self": null,
            "border": null,
            "bottom": null,
            "display": null,
            "flex": null,
            "flex_flow": null,
            "grid_area": null,
            "grid_auto_columns": null,
            "grid_auto_flow": null,
            "grid_auto_rows": null,
            "grid_column": null,
            "grid_gap": null,
            "grid_row": null,
            "grid_template_areas": null,
            "grid_template_columns": null,
            "grid_template_rows": null,
            "height": null,
            "justify_content": null,
            "justify_items": null,
            "left": null,
            "margin": null,
            "max_height": null,
            "max_width": null,
            "min_height": null,
            "min_width": null,
            "object_fit": null,
            "object_position": null,
            "order": null,
            "overflow": null,
            "overflow_x": null,
            "overflow_y": null,
            "padding": null,
            "right": null,
            "top": null,
            "visibility": null,
            "width": null
          }
        },
        "b097b05e30a7453aae264053f6a9f8b0": {
          "model_module": "@jupyter-widgets/controls",
          "model_module_version": "1.5.0",
          "model_name": "DescriptionStyleModel",
          "state": {
            "_model_module": "@jupyter-widgets/controls",
            "_model_module_version": "1.5.0",
            "_model_name": "DescriptionStyleModel",
            "_view_count": null,
            "_view_module": "@jupyter-widgets/base",
            "_view_module_version": "1.2.0",
            "_view_name": "StyleView",
            "description_width": ""
          }
        },
        "b1e50d61230c4479a09087e3ecfc226b": {
          "model_module": "@jupyter-widgets/base",
          "model_module_version": "1.2.0",
          "model_name": "LayoutModel",
          "state": {
            "_model_module": "@jupyter-widgets/base",
            "_model_module_version": "1.2.0",
            "_model_name": "LayoutModel",
            "_view_count": null,
            "_view_module": "@jupyter-widgets/base",
            "_view_module_version": "1.2.0",
            "_view_name": "LayoutView",
            "align_content": null,
            "align_items": null,
            "align_self": null,
            "border": null,
            "bottom": null,
            "display": null,
            "flex": null,
            "flex_flow": null,
            "grid_area": null,
            "grid_auto_columns": null,
            "grid_auto_flow": null,
            "grid_auto_rows": null,
            "grid_column": null,
            "grid_gap": null,
            "grid_row": null,
            "grid_template_areas": null,
            "grid_template_columns": null,
            "grid_template_rows": null,
            "height": null,
            "justify_content": null,
            "justify_items": null,
            "left": null,
            "margin": null,
            "max_height": null,
            "max_width": null,
            "min_height": null,
            "min_width": null,
            "object_fit": null,
            "object_position": null,
            "order": null,
            "overflow": null,
            "overflow_x": null,
            "overflow_y": null,
            "padding": null,
            "right": null,
            "top": null,
            "visibility": null,
            "width": null
          }
        },
        "bcaee4b0e3514182987f718373bd61a6": {
          "model_module": "@jupyter-widgets/controls",
          "model_module_version": "1.5.0",
          "model_name": "FloatProgressModel",
          "state": {
            "_dom_classes": [],
            "_model_module": "@jupyter-widgets/controls",
            "_model_module_version": "1.5.0",
            "_model_name": "FloatProgressModel",
            "_view_count": null,
            "_view_module": "@jupyter-widgets/controls",
            "_view_module_version": "1.5.0",
            "_view_name": "ProgressView",
            "bar_style": "success",
            "description": "",
            "description_tooltip": null,
            "layout": "IPY_MODEL_a2b1d48686bf4591a214bef38cea758d",
            "max": 191984949,
            "min": 0,
            "orientation": "horizontal",
            "style": "IPY_MODEL_d056ecd5c1f14300b1e3b30689f87300",
            "value": 191984949
          }
        },
        "c317501d809d4ce8bd37ab692fca04f4": {
          "model_module": "@jupyter-widgets/base",
          "model_module_version": "1.2.0",
          "model_name": "LayoutModel",
          "state": {
            "_model_module": "@jupyter-widgets/base",
            "_model_module_version": "1.2.0",
            "_model_name": "LayoutModel",
            "_view_count": null,
            "_view_module": "@jupyter-widgets/base",
            "_view_module_version": "1.2.0",
            "_view_name": "LayoutView",
            "align_content": null,
            "align_items": null,
            "align_self": null,
            "border": null,
            "bottom": null,
            "display": null,
            "flex": null,
            "flex_flow": null,
            "grid_area": null,
            "grid_auto_columns": null,
            "grid_auto_flow": null,
            "grid_auto_rows": null,
            "grid_column": null,
            "grid_gap": null,
            "grid_row": null,
            "grid_template_areas": null,
            "grid_template_columns": null,
            "grid_template_rows": null,
            "height": null,
            "justify_content": null,
            "justify_items": null,
            "left": null,
            "margin": null,
            "max_height": null,
            "max_width": null,
            "min_height": null,
            "min_width": null,
            "object_fit": null,
            "object_position": null,
            "order": null,
            "overflow": null,
            "overflow_x": null,
            "overflow_y": null,
            "padding": null,
            "right": null,
            "top": null,
            "visibility": null,
            "width": null
          }
        },
        "c9c0754651224e9096ad9e14348b472a": {
          "model_module": "@jupyter-widgets/base",
          "model_module_version": "1.2.0",
          "model_name": "LayoutModel",
          "state": {
            "_model_module": "@jupyter-widgets/base",
            "_model_module_version": "1.2.0",
            "_model_name": "LayoutModel",
            "_view_count": null,
            "_view_module": "@jupyter-widgets/base",
            "_view_module_version": "1.2.0",
            "_view_name": "LayoutView",
            "align_content": null,
            "align_items": null,
            "align_self": null,
            "border": null,
            "bottom": null,
            "display": null,
            "flex": null,
            "flex_flow": null,
            "grid_area": null,
            "grid_auto_columns": null,
            "grid_auto_flow": null,
            "grid_auto_rows": null,
            "grid_column": null,
            "grid_gap": null,
            "grid_row": null,
            "grid_template_areas": null,
            "grid_template_columns": null,
            "grid_template_rows": null,
            "height": null,
            "justify_content": null,
            "justify_items": null,
            "left": null,
            "margin": null,
            "max_height": null,
            "max_width": null,
            "min_height": null,
            "min_width": null,
            "object_fit": null,
            "object_position": null,
            "order": null,
            "overflow": null,
            "overflow_x": null,
            "overflow_y": null,
            "padding": null,
            "right": null,
            "top": null,
            "visibility": null,
            "width": null
          }
        },
        "c9e2bf8130c54c6f8c713942add45a03": {
          "model_module": "@jupyter-widgets/controls",
          "model_module_version": "1.5.0",
          "model_name": "DescriptionStyleModel",
          "state": {
            "_model_module": "@jupyter-widgets/controls",
            "_model_module_version": "1.5.0",
            "_model_name": "DescriptionStyleModel",
            "_view_count": null,
            "_view_module": "@jupyter-widgets/base",
            "_view_module_version": "1.2.0",
            "_view_name": "StyleView",
            "description_width": ""
          }
        },
        "cc5c12dbe6094c51bd2a4b6b769bcb26": {
          "model_module": "@jupyter-widgets/controls",
          "model_module_version": "1.5.0",
          "model_name": "FloatProgressModel",
          "state": {
            "_dom_classes": [],
            "_model_module": "@jupyter-widgets/controls",
            "_model_module_version": "1.5.0",
            "_model_name": "FloatProgressModel",
            "_view_count": null,
            "_view_module": "@jupyter-widgets/controls",
            "_view_module_version": "1.5.0",
            "_view_name": "ProgressView",
            "bar_style": "success",
            "description": "",
            "description_tooltip": null,
            "layout": "IPY_MODEL_8a15982e95dd44bba00bc2b5a442812d",
            "max": 6838,
            "min": 0,
            "orientation": "horizontal",
            "style": "IPY_MODEL_48d0cf06a2514117901fd36a31f26fd2",
            "value": 6838
          }
        },
        "d056ecd5c1f14300b1e3b30689f87300": {
          "model_module": "@jupyter-widgets/controls",
          "model_module_version": "1.5.0",
          "model_name": "ProgressStyleModel",
          "state": {
            "_model_module": "@jupyter-widgets/controls",
            "_model_module_version": "1.5.0",
            "_model_name": "ProgressStyleModel",
            "_view_count": null,
            "_view_module": "@jupyter-widgets/base",
            "_view_module_version": "1.2.0",
            "_view_name": "StyleView",
            "bar_color": null,
            "description_width": ""
          }
        },
        "d41c6d41a2474933bbf0d128f20951df": {
          "model_module": "@jupyter-widgets/base",
          "model_module_version": "1.2.0",
          "model_name": "LayoutModel",
          "state": {
            "_model_module": "@jupyter-widgets/base",
            "_model_module_version": "1.2.0",
            "_model_name": "LayoutModel",
            "_view_count": null,
            "_view_module": "@jupyter-widgets/base",
            "_view_module_version": "1.2.0",
            "_view_name": "LayoutView",
            "align_content": null,
            "align_items": null,
            "align_self": null,
            "border": null,
            "bottom": null,
            "display": null,
            "flex": null,
            "flex_flow": null,
            "grid_area": null,
            "grid_auto_columns": null,
            "grid_auto_flow": null,
            "grid_auto_rows": null,
            "grid_column": null,
            "grid_gap": null,
            "grid_row": null,
            "grid_template_areas": null,
            "grid_template_columns": null,
            "grid_template_rows": null,
            "height": null,
            "justify_content": null,
            "justify_items": null,
            "left": null,
            "margin": null,
            "max_height": null,
            "max_width": null,
            "min_height": null,
            "min_width": null,
            "object_fit": null,
            "object_position": null,
            "order": null,
            "overflow": null,
            "overflow_x": null,
            "overflow_y": null,
            "padding": null,
            "right": null,
            "top": null,
            "visibility": null,
            "width": null
          }
        },
        "d5ce6624c4054583af6c82b61429f13f": {
          "model_module": "@jupyter-widgets/controls",
          "model_module_version": "1.5.0",
          "model_name": "DescriptionStyleModel",
          "state": {
            "_model_module": "@jupyter-widgets/controls",
            "_model_module_version": "1.5.0",
            "_model_name": "DescriptionStyleModel",
            "_view_count": null,
            "_view_module": "@jupyter-widgets/base",
            "_view_module_version": "1.2.0",
            "_view_name": "StyleView",
            "description_width": ""
          }
        },
        "d5d02981a4f94311bf2cce51f24c76f8": {
          "model_module": "@jupyter-widgets/base",
          "model_module_version": "1.2.0",
          "model_name": "LayoutModel",
          "state": {
            "_model_module": "@jupyter-widgets/base",
            "_model_module_version": "1.2.0",
            "_model_name": "LayoutModel",
            "_view_count": null,
            "_view_module": "@jupyter-widgets/base",
            "_view_module_version": "1.2.0",
            "_view_name": "LayoutView",
            "align_content": null,
            "align_items": null,
            "align_self": null,
            "border": null,
            "bottom": null,
            "display": null,
            "flex": null,
            "flex_flow": null,
            "grid_area": null,
            "grid_auto_columns": null,
            "grid_auto_flow": null,
            "grid_auto_rows": null,
            "grid_column": null,
            "grid_gap": null,
            "grid_row": null,
            "grid_template_areas": null,
            "grid_template_columns": null,
            "grid_template_rows": null,
            "height": null,
            "justify_content": null,
            "justify_items": null,
            "left": null,
            "margin": null,
            "max_height": null,
            "max_width": null,
            "min_height": null,
            "min_width": null,
            "object_fit": null,
            "object_position": null,
            "order": null,
            "overflow": null,
            "overflow_x": null,
            "overflow_y": null,
            "padding": null,
            "right": null,
            "top": null,
            "visibility": null,
            "width": null
          }
        },
        "d60e9e6c4d6a4feaba4051aed51c2e78": {
          "model_module": "@jupyter-widgets/controls",
          "model_module_version": "1.5.0",
          "model_name": "HTMLModel",
          "state": {
            "_dom_classes": [],
            "_model_module": "@jupyter-widgets/controls",
            "_model_module_version": "1.5.0",
            "_model_name": "HTMLModel",
            "_view_count": null,
            "_view_module": "@jupyter-widgets/controls",
            "_view_module_version": "1.5.0",
            "_view_name": "HTMLView",
            "description": "",
            "description_tooltip": null,
            "layout": "IPY_MODEL_49e21d111a054a80a7cfce03ac0dc5fa",
            "placeholder": "​",
            "style": "IPY_MODEL_06f848cc4cde469987817447e7981dd2",
            "value": " 192M/192M [00:08&lt;00:00, 16.5MB/s]"
          }
        },
        "d982b74b8c6e49b58d1aa6e842359502": {
          "model_module": "@jupyter-widgets/controls",
          "model_module_version": "1.5.0",
          "model_name": "FloatProgressModel",
          "state": {
            "_dom_classes": [],
            "_model_module": "@jupyter-widgets/controls",
            "_model_module_version": "1.5.0",
            "_model_name": "FloatProgressModel",
            "_view_count": null,
            "_view_module": "@jupyter-widgets/controls",
            "_view_module_version": "1.5.0",
            "_view_name": "ProgressView",
            "bar_style": "",
            "description": "",
            "description_tooltip": null,
            "layout": "IPY_MODEL_67fb8cac8f864322b804b8a69647de1e",
            "max": 3760,
            "min": 0,
            "orientation": "horizontal",
            "style": "IPY_MODEL_91aa754217ef4928a92cb1a874ae1a58",
            "value": 3760
          }
        },
        "dadf5b57fa64451db906ff7ebed97e86": {
          "model_module": "@jupyter-widgets/controls",
          "model_module_version": "1.5.0",
          "model_name": "HBoxModel",
          "state": {
            "_dom_classes": [],
            "_model_module": "@jupyter-widgets/controls",
            "_model_module_version": "1.5.0",
            "_model_name": "HBoxModel",
            "_view_count": null,
            "_view_module": "@jupyter-widgets/controls",
            "_view_module_version": "1.5.0",
            "_view_name": "HBoxView",
            "box_style": "",
            "children": [
              "IPY_MODEL_104ec26e0a734cf48ea0c2213963d5e1",
              "IPY_MODEL_bcaee4b0e3514182987f718373bd61a6",
              "IPY_MODEL_d60e9e6c4d6a4feaba4051aed51c2e78"
            ],
            "layout": "IPY_MODEL_df8dedda7d084253b7ef789c37d742c3"
          }
        },
        "df8dedda7d084253b7ef789c37d742c3": {
          "model_module": "@jupyter-widgets/base",
          "model_module_version": "1.2.0",
          "model_name": "LayoutModel",
          "state": {
            "_model_module": "@jupyter-widgets/base",
            "_model_module_version": "1.2.0",
            "_model_name": "LayoutModel",
            "_view_count": null,
            "_view_module": "@jupyter-widgets/base",
            "_view_module_version": "1.2.0",
            "_view_name": "LayoutView",
            "align_content": null,
            "align_items": null,
            "align_self": null,
            "border": null,
            "bottom": null,
            "display": null,
            "flex": null,
            "flex_flow": null,
            "grid_area": null,
            "grid_auto_columns": null,
            "grid_auto_flow": null,
            "grid_auto_rows": null,
            "grid_column": null,
            "grid_gap": null,
            "grid_row": null,
            "grid_template_areas": null,
            "grid_template_columns": null,
            "grid_template_rows": null,
            "height": null,
            "justify_content": null,
            "justify_items": null,
            "left": null,
            "margin": null,
            "max_height": null,
            "max_width": null,
            "min_height": null,
            "min_width": null,
            "object_fit": null,
            "object_position": null,
            "order": null,
            "overflow": null,
            "overflow_x": null,
            "overflow_y": null,
            "padding": null,
            "right": null,
            "top": null,
            "visibility": null,
            "width": null
          }
        },
        "e44a0bfd983e433e8f8109bf19679ac4": {
          "model_module": "@jupyter-widgets/base",
          "model_module_version": "1.2.0",
          "model_name": "LayoutModel",
          "state": {
            "_model_module": "@jupyter-widgets/base",
            "_model_module_version": "1.2.0",
            "_model_name": "LayoutModel",
            "_view_count": null,
            "_view_module": "@jupyter-widgets/base",
            "_view_module_version": "1.2.0",
            "_view_name": "LayoutView",
            "align_content": null,
            "align_items": null,
            "align_self": null,
            "border": null,
            "bottom": null,
            "display": null,
            "flex": null,
            "flex_flow": null,
            "grid_area": null,
            "grid_auto_columns": null,
            "grid_auto_flow": null,
            "grid_auto_rows": null,
            "grid_column": null,
            "grid_gap": null,
            "grid_row": null,
            "grid_template_areas": null,
            "grid_template_columns": null,
            "grid_template_rows": null,
            "height": null,
            "justify_content": null,
            "justify_items": null,
            "left": null,
            "margin": null,
            "max_height": null,
            "max_width": null,
            "min_height": null,
            "min_width": null,
            "object_fit": null,
            "object_position": null,
            "order": null,
            "overflow": null,
            "overflow_x": null,
            "overflow_y": null,
            "padding": null,
            "right": null,
            "top": null,
            "visibility": null,
            "width": null
          }
        },
        "e44f289aeace4e1fabf65d8a3fe6f117": {
          "model_module": "@jupyter-widgets/controls",
          "model_module_version": "1.5.0",
          "model_name": "DescriptionStyleModel",
          "state": {
            "_model_module": "@jupyter-widgets/controls",
            "_model_module_version": "1.5.0",
            "_model_name": "DescriptionStyleModel",
            "_view_count": null,
            "_view_module": "@jupyter-widgets/base",
            "_view_module_version": "1.2.0",
            "_view_name": "StyleView",
            "description_width": ""
          }
        },
        "e6f8682f66954517bff929f2989d028f": {
          "model_module": "@jupyter-widgets/base",
          "model_module_version": "1.2.0",
          "model_name": "LayoutModel",
          "state": {
            "_model_module": "@jupyter-widgets/base",
            "_model_module_version": "1.2.0",
            "_model_name": "LayoutModel",
            "_view_count": null,
            "_view_module": "@jupyter-widgets/base",
            "_view_module_version": "1.2.0",
            "_view_name": "LayoutView",
            "align_content": null,
            "align_items": null,
            "align_self": null,
            "border": null,
            "bottom": null,
            "display": null,
            "flex": null,
            "flex_flow": null,
            "grid_area": null,
            "grid_auto_columns": null,
            "grid_auto_flow": null,
            "grid_auto_rows": null,
            "grid_column": null,
            "grid_gap": null,
            "grid_row": null,
            "grid_template_areas": null,
            "grid_template_columns": null,
            "grid_template_rows": null,
            "height": null,
            "justify_content": null,
            "justify_items": null,
            "left": null,
            "margin": null,
            "max_height": null,
            "max_width": null,
            "min_height": null,
            "min_width": null,
            "object_fit": null,
            "object_position": null,
            "order": null,
            "overflow": null,
            "overflow_x": null,
            "overflow_y": null,
            "padding": null,
            "right": null,
            "top": null,
            "visibility": null,
            "width": null
          }
        },
        "e933f23155f1447db29d300c74f0f6c2": {
          "model_module": "@jupyter-widgets/controls",
          "model_module_version": "1.5.0",
          "model_name": "HTMLModel",
          "state": {
            "_dom_classes": [],
            "_model_module": "@jupyter-widgets/controls",
            "_model_module_version": "1.5.0",
            "_model_name": "HTMLModel",
            "_view_count": null,
            "_view_module": "@jupyter-widgets/controls",
            "_view_module_version": "1.5.0",
            "_view_name": "HTMLView",
            "description": "",
            "description_tooltip": null,
            "layout": "IPY_MODEL_b1e50d61230c4479a09087e3ecfc226b",
            "placeholder": "​",
            "style": "IPY_MODEL_80a6eadb31ff418b95a5ac518775a250",
            "value": "Generating test split:  32%"
          }
        },
        "e96b3a50cd7c46b39ce8bffe58630ab8": {
          "model_module": "@jupyter-widgets/base",
          "model_module_version": "1.2.0",
          "model_name": "LayoutModel",
          "state": {
            "_model_module": "@jupyter-widgets/base",
            "_model_module_version": "1.2.0",
            "_model_name": "LayoutModel",
            "_view_count": null,
            "_view_module": "@jupyter-widgets/base",
            "_view_module_version": "1.2.0",
            "_view_name": "LayoutView",
            "align_content": null,
            "align_items": null,
            "align_self": null,
            "border": null,
            "bottom": null,
            "display": null,
            "flex": null,
            "flex_flow": null,
            "grid_area": null,
            "grid_auto_columns": null,
            "grid_auto_flow": null,
            "grid_auto_rows": null,
            "grid_column": null,
            "grid_gap": null,
            "grid_row": null,
            "grid_template_areas": null,
            "grid_template_columns": null,
            "grid_template_rows": null,
            "height": null,
            "justify_content": null,
            "justify_items": null,
            "left": null,
            "margin": null,
            "max_height": null,
            "max_width": null,
            "min_height": null,
            "min_width": null,
            "object_fit": null,
            "object_position": null,
            "order": null,
            "overflow": null,
            "overflow_x": null,
            "overflow_y": null,
            "padding": null,
            "right": null,
            "top": null,
            "visibility": null,
            "width": null
          }
        },
        "f0663d94714944f4919a1091ead49f08": {
          "model_module": "@jupyter-widgets/controls",
          "model_module_version": "1.5.0",
          "model_name": "DescriptionStyleModel",
          "state": {
            "_model_module": "@jupyter-widgets/controls",
            "_model_module_version": "1.5.0",
            "_model_name": "DescriptionStyleModel",
            "_view_count": null,
            "_view_module": "@jupyter-widgets/base",
            "_view_module_version": "1.2.0",
            "_view_name": "StyleView",
            "description_width": ""
          }
        },
        "f0b69beb35b842a29489111a02cb0eed": {
          "model_module": "@jupyter-widgets/controls",
          "model_module_version": "1.5.0",
          "model_name": "FloatProgressModel",
          "state": {
            "_dom_classes": [],
            "_model_module": "@jupyter-widgets/controls",
            "_model_module_version": "1.5.0",
            "_model_name": "FloatProgressModel",
            "_view_count": null,
            "_view_module": "@jupyter-widgets/controls",
            "_view_module_version": "1.5.0",
            "_view_name": "ProgressView",
            "bar_style": "success",
            "description": "",
            "description_tooltip": null,
            "layout": "IPY_MODEL_d41c6d41a2474933bbf0d128f20951df",
            "max": 9252,
            "min": 0,
            "orientation": "horizontal",
            "style": "IPY_MODEL_7c08176a43804354b6d772f00ccf1456",
            "value": 9252
          }
        },
        "f2c54d9c08bd41e194875db16013d951": {
          "model_module": "@jupyter-widgets/base",
          "model_module_version": "1.2.0",
          "model_name": "LayoutModel",
          "state": {
            "_model_module": "@jupyter-widgets/base",
            "_model_module_version": "1.2.0",
            "_model_name": "LayoutModel",
            "_view_count": null,
            "_view_module": "@jupyter-widgets/base",
            "_view_module_version": "1.2.0",
            "_view_name": "LayoutView",
            "align_content": null,
            "align_items": null,
            "align_self": null,
            "border": null,
            "bottom": null,
            "display": null,
            "flex": null,
            "flex_flow": null,
            "grid_area": null,
            "grid_auto_columns": null,
            "grid_auto_flow": null,
            "grid_auto_rows": null,
            "grid_column": null,
            "grid_gap": null,
            "grid_row": null,
            "grid_template_areas": null,
            "grid_template_columns": null,
            "grid_template_rows": null,
            "height": null,
            "justify_content": null,
            "justify_items": null,
            "left": null,
            "margin": null,
            "max_height": null,
            "max_width": null,
            "min_height": null,
            "min_width": null,
            "object_fit": null,
            "object_position": null,
            "order": null,
            "overflow": null,
            "overflow_x": null,
            "overflow_y": null,
            "padding": null,
            "right": null,
            "top": null,
            "visibility": null,
            "width": null
          }
        },
        "f3a8e1d2b02643069a1e0f6e4ab6d2df": {
          "model_module": "@jupyter-widgets/controls",
          "model_module_version": "1.5.0",
          "model_name": "FloatProgressModel",
          "state": {
            "_dom_classes": [],
            "_model_module": "@jupyter-widgets/controls",
            "_model_module_version": "1.5.0",
            "_model_name": "FloatProgressModel",
            "_view_count": null,
            "_view_module": "@jupyter-widgets/controls",
            "_view_module_version": "1.5.0",
            "_view_name": "ProgressView",
            "bar_style": "",
            "description": "",
            "description_tooltip": null,
            "layout": "IPY_MODEL_1ac8cea59cd84764814dada44f07e4c2",
            "max": 1801350,
            "min": 0,
            "orientation": "horizontal",
            "style": "IPY_MODEL_34ffd83dda4843e08a92803ad0cf9f29",
            "value": 1801350
          }
        },
        "f475d619c4804437bdd8ea7b76630be7": {
          "model_module": "@jupyter-widgets/base",
          "model_module_version": "1.2.0",
          "model_name": "LayoutModel",
          "state": {
            "_model_module": "@jupyter-widgets/base",
            "_model_module_version": "1.2.0",
            "_model_name": "LayoutModel",
            "_view_count": null,
            "_view_module": "@jupyter-widgets/base",
            "_view_module_version": "1.2.0",
            "_view_name": "LayoutView",
            "align_content": null,
            "align_items": null,
            "align_self": null,
            "border": null,
            "bottom": null,
            "display": null,
            "flex": null,
            "flex_flow": null,
            "grid_area": null,
            "grid_auto_columns": null,
            "grid_auto_flow": null,
            "grid_auto_rows": null,
            "grid_column": null,
            "grid_gap": null,
            "grid_row": null,
            "grid_template_areas": null,
            "grid_template_columns": null,
            "grid_template_rows": null,
            "height": null,
            "justify_content": null,
            "justify_items": null,
            "left": null,
            "margin": null,
            "max_height": null,
            "max_width": null,
            "min_height": null,
            "min_width": null,
            "object_fit": null,
            "object_position": null,
            "order": null,
            "overflow": null,
            "overflow_x": null,
            "overflow_y": null,
            "padding": null,
            "right": null,
            "top": null,
            "visibility": null,
            "width": null
          }
        },
        "f6c2defcd62b461ca338b61ca082ec9a": {
          "model_module": "@jupyter-widgets/controls",
          "model_module_version": "1.5.0",
          "model_name": "HTMLModel",
          "state": {
            "_dom_classes": [],
            "_model_module": "@jupyter-widgets/controls",
            "_model_module_version": "1.5.0",
            "_model_name": "HTMLModel",
            "_view_count": null,
            "_view_module": "@jupyter-widgets/controls",
            "_view_module_version": "1.5.0",
            "_view_name": "HTMLView",
            "description": "",
            "description_tooltip": null,
            "layout": "IPY_MODEL_f475d619c4804437bdd8ea7b76630be7",
            "placeholder": "​",
            "style": "IPY_MODEL_2814dee4af5a4d6480c4fabf1ca4a061",
            "value": "Downloading readme: 100%"
          }
        },
        "f83088b73358419aac82c4d1f22e9a96": {
          "model_module": "@jupyter-widgets/base",
          "model_module_version": "1.2.0",
          "model_name": "LayoutModel",
          "state": {
            "_model_module": "@jupyter-widgets/base",
            "_model_module_version": "1.2.0",
            "_model_name": "LayoutModel",
            "_view_count": null,
            "_view_module": "@jupyter-widgets/base",
            "_view_module_version": "1.2.0",
            "_view_name": "LayoutView",
            "align_content": null,
            "align_items": null,
            "align_self": null,
            "border": null,
            "bottom": null,
            "display": null,
            "flex": null,
            "flex_flow": null,
            "grid_area": null,
            "grid_auto_columns": null,
            "grid_auto_flow": null,
            "grid_auto_rows": null,
            "grid_column": null,
            "grid_gap": null,
            "grid_row": null,
            "grid_template_areas": null,
            "grid_template_columns": null,
            "grid_template_rows": null,
            "height": null,
            "justify_content": null,
            "justify_items": null,
            "left": null,
            "margin": null,
            "max_height": null,
            "max_width": null,
            "min_height": null,
            "min_width": null,
            "object_fit": null,
            "object_position": null,
            "order": null,
            "overflow": null,
            "overflow_x": null,
            "overflow_y": null,
            "padding": null,
            "right": null,
            "top": null,
            "visibility": null,
            "width": null
          }
        },
        "feaf0ab28d44404cb3a8da9f5d19c0aa": {
          "model_module": "@jupyter-widgets/controls",
          "model_module_version": "1.5.0",
          "model_name": "HTMLModel",
          "state": {
            "_dom_classes": [],
            "_model_module": "@jupyter-widgets/controls",
            "_model_module_version": "1.5.0",
            "_model_name": "HTMLModel",
            "_view_count": null,
            "_view_module": "@jupyter-widgets/controls",
            "_view_module_version": "1.5.0",
            "_view_name": "HTMLView",
            "description": "",
            "description_tooltip": null,
            "layout": "IPY_MODEL_17b78f6e29e84346ae673b497223d932",
            "placeholder": "​",
            "style": "IPY_MODEL_13b1afbff4dc4a3ea543a032dec57f7d",
            "value": "Downloading builder script: 100%"
          }
        }
      }
    }
  },
  "nbformat": 4,
  "nbformat_minor": 0
}
